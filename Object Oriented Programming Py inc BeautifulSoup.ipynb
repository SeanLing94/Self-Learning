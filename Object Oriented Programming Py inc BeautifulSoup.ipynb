{
 "cells": [
  {
   "cell_type": "markdown",
   "metadata": {},
   "source": [
    "Introduction of Class",
    "Python, https://www.linkedin.com/learning/intermediate-python-for-non-programmers/instances-23379100?autoSkip=true&resume=false&u=135336282"
   ]
  },
  {
   "cell_type": "code",
   "execution_count": 7,
   "metadata": {},
   "outputs": [
    {
     "name": "stdout",
     "output_type": "stream",
     "text": [
      "Im alive!\n",
      "Im alive!\n",
      "2\n",
      "6\n",
      "Fido\n",
      "Sarah\n"
     ]
    }
   ],
   "source": [
    "import random\n",
    "\n",
    "class Dog:\n",
    "    info = \"A mammal\"\n",
    "    def __init__(self, name):\n",
    "        print(\"Im alive!\")\n",
    "        self.lucky_number = random.randint(1,10)\n",
    "        self.name = name\n",
    "\n",
    "dog1 = Dog(\"Fido\")\n",
    "dog2 = Dog(\"Sarah\")\n",
    "\n",
    "print(dog1.lucky_number)\n",
    "print(dog2.lucky_number)\n",
    "print(dog1.name)\n",
    "print(dog2.name)"
   ]
  },
  {
   "cell_type": "code",
   "execution_count": 9,
   "metadata": {},
   "outputs": [
    {
     "name": "stdout",
     "output_type": "stream",
     "text": [
      "Hello,\n",
      "Hello,\n",
      "Randal\n",
      "Arteezy\n",
      "a rich guy\n",
      "36\n"
     ]
    }
   ],
   "source": [
    "import random\n",
    "\n",
    "class Human:\n",
    "    info = \"a rich guy\"\n",
    "    def __init__(self,name):\n",
    "        print(\"Hello,\")\n",
    "        self.age = random.randint(1,80)\n",
    "        self.name = name\n",
    "\n",
    "actor1 = Human(\"Randal\")\n",
    "actor2 = Human(\"Arteezy\")\n",
    "\n",
    "print(actor1.name)\n",
    "print(actor2.name)\n",
    "print(actor1.info)\n",
    "print(actor2.age)"
   ]
  },
  {
   "cell_type": "code",
   "execution_count": 12,
   "metadata": {},
   "outputs": [
    {
     "name": "stdout",
     "output_type": "stream",
     "text": [
      "Please, integer number only, eg. 1,2,3!\n"
     ]
    }
   ],
   "source": [
    "class IhaveNoIdea(ValueError):\n",
    "    pass\n",
    "\n",
    "def Integer(luckynumber):\n",
    "    if type(luckynumber) != int:\n",
    "        raise IhaveNoIdea(\"Please, integer number only, eg. 1,2,3!\")\n",
    "    return int(luckynumber)\n",
    "\n",
    "try:\n",
    "    Integer(\"xyz\")\n",
    "except IhaveNoIdea as e:\n",
    "    print(e)"
   ]
  },
  {
   "cell_type": "code",
   "execution_count": 25,
   "metadata": {},
   "outputs": [
    {
     "name": "stdout",
     "output_type": "stream",
     "text": [
      "In tokyo it is currently 11.39°C\n",
      "Today's high = 13.13°C\n",
      "Today's low = 9.31°C\n",
      "In tokyo it is currently 11.39°F\n",
      "Today's high = 13.13°F\n",
      "Today's low = 9.31°F\n"
     ]
    }
   ],
   "source": [
    "import requests\n",
    "\n",
    "class City:\n",
    "    def __init__(self, name, lat, lon, units='metric'):\n",
    "        self.name = name\n",
    "        self.lat = lat\n",
    "        self.lon = lon\n",
    "        self.units = units\n",
    "\n",
    "    def get_data(self):\n",
    "        try:\n",
    "            response = requests.get(\"https://api.openweathermap.org/data/2.5/weather?units=metric&lat=35.6762&lon=139.6503&appid=79007029562c2ab46617d801d8018750\")\n",
    "        except:\n",
    "            print (\"No Internet access :(\")\n",
    "        \n",
    "        response_json = response.json()\n",
    "        self.temp = response_json[\"main\"][\"temp\"]\n",
    "        self.temp_min = response_json[\"main\"][\"temp_min\"]\n",
    "        self.temp_max = response_json[\"main\"][\"temp_max\"]\n",
    "\n",
    "    def temp_print(self): \n",
    "        units_symbol = \"C\"\n",
    "        if self.units == 'imperial':\n",
    "            units_symbol = \"F\"\n",
    "        print(f\"In tokyo it is currently {temp}°{units_symbol}\")\n",
    "        print(f\"Today's high = {temp_max}°{units_symbol}\")\n",
    "        print(f\"Today's low = {temp_min}°{units_symbol}\")\n",
    "\n",
    "my_city = City(\"Tokyo\", 32.6762, 139.6503)\n",
    "my_city.temp_print()\n",
    "\n",
    "vacation_city = City(\"Portland\", 45.5152, -122.6784, units='imperial')\n",
    "vacation_city.temp_print()"
   ]
  },
  {
   "cell_type": "code",
   "execution_count": 26,
   "metadata": {},
   "outputs": [
    {
     "name": "stdout",
     "output_type": "stream",
     "text": [
      "You are unlucky\n"
     ]
    }
   ],
   "source": [
    "number = int(input(\"Please provide a number\"))\n",
    "\n",
    "match number % 2:\n",
    "    case 0:\n",
    "        print(\"You are lucky\")\n",
    "    case 1:\n",
    "        print(\"You are unlucky\")\n",
    "    case _:\n",
    "        print(\"What a number!\")"
   ]
  },
  {
   "cell_type": "code",
   "execution_count": 33,
   "metadata": {},
   "outputs": [
    {
     "name": "stdout",
     "output_type": "stream",
     "text": [
      "['Joe Failed', 'Amy Passed', 'Mark Passed', 'Zach Passed', 'Jane Passed', 'Sarah Failed']\n"
     ]
    }
   ],
   "source": [
    "class Student:\n",
    "    def __init__(self, name, score):\n",
    "        self.name = name\n",
    "        self.score = score\n",
    "\n",
    "students = [Student(\"Joe\", 0.46), Student(\"Amy\", 0.72), Student(\"Mark\", 0.88), Student(\"Zach\", 0.75), Student(\"Jane\",0.84), Student(\"Sarah\", 0.63)]\n",
    "\n",
    "students_results = []\n",
    "# for student in students:\n",
    "#     # solution 1\n",
    "#     # if student.score >= 0.7:\n",
    "#     #     students_results.append(f\"{student.name} Passed\")\n",
    "#     # else:\n",
    "#     #     students_results.append(f\"{student.name} Failed\")\n",
    "    \n",
    "#     # solution 2\n",
    "#     students_results.append(f\"{student.name} Passed\") if student.score >= 0.7 else students_results.append(f\"{student.name} Failed\")\n",
    "\n",
    "# solution 3\n",
    "map_results = list(map(lambda student: f\"{student.name} Passed\" if student.score >=0.7 else f\"{student.name} Failed\", students))\n",
    "\n",
    "print(map_results)"
   ]
  },
  {
   "cell_type": "code",
   "execution_count": 36,
   "metadata": {},
   "outputs": [
    {
     "name": "stdout",
     "output_type": "stream",
     "text": [
      "[2, 4, 6, 8, 10]\n"
     ]
    }
   ],
   "source": [
    "class Number:\n",
    "    def __init__(self, number):\n",
    "        self.number = number\n",
    "\n",
    "numbers = [1,2,3,4,5]\n",
    "\n",
    "multiplied_by_2 = list(map(lambda number: number*2, numbers))\n",
    "\n",
    "print(multiplied_by_2)"
   ]
  },
  {
   "cell_type": "code",
   "execution_count": 39,
   "metadata": {},
   "outputs": [
    {
     "name": "stdout",
     "output_type": "stream",
     "text": [
      "[Joe: 0.46, Sarah: 0.63]\n",
      "[Joe: 0.46, Sarah: 0.63]\n"
     ]
    }
   ],
   "source": [
    "class Student:\n",
    "    def __init__(self, name, score):\n",
    "        self.name = name\n",
    "        self.score = score\n",
    "\n",
    "    def __repr__(self):\n",
    "        return f\"{self.name}: {self.score}\"\n",
    "\n",
    "students = [Student(\"Joe\", 0.46), Student(\"Amy\", 0.72), Student(\"Mark\", 0.88), Student(\"Zach\", 0.75), Student(\"Jane\",0.84), Student(\"Sarah\", 0.63)]\n",
    "\n",
    "failing_students = []\n",
    "for student in students:\n",
    "    if student.score < 0.7:\n",
    "        failing_students.append(student)\n",
    "\n",
    "print(failing_students)\n",
    "\n",
    "filter_list = list(filter(lambda student: student.score <0.7, students))\n",
    "\n",
    "print(filter_list)"
   ]
  },
  {
   "cell_type": "code",
   "execution_count": 47,
   "metadata": {},
   "outputs": [
    {
     "name": "stdout",
     "output_type": "stream",
     "text": [
      "[2, 4]\n"
     ]
    }
   ],
   "source": [
    "numbers = [1,2,3,4,5]\n",
    "\n",
    "filter_list = list(filter(lambda number: number % 2 == 0, numbers))\n",
    "\n",
    "print(filter_list)"
   ]
  },
  {
   "cell_type": "code",
   "execution_count": 50,
   "metadata": {},
   "outputs": [
    {
     "name": "stdout",
     "output_type": "stream",
     "text": [
      "0.7133333333333334\n",
      "0.7133333333333334\n"
     ]
    }
   ],
   "source": [
    "class Student:\n",
    "    def __init__(self, name, score):\n",
    "        self.name = name\n",
    "        self.score = score\n",
    "\n",
    "    def __repr__(self):\n",
    "        return f\"{self.name}: {self.score}\"\n",
    "\n",
    "students = [Student(\"Joe\", 0.46), Student(\"Amy\", 0.72), Student(\"Mark\", 0.88), Student(\"Zach\", 0.75), Student(\"Jane\",0.84), Student(\"Sarah\", 0.63)]\n",
    "\n",
    "score_total = 0\n",
    "for student in students:\n",
    "    score_total += student.score\n",
    "\n",
    "print(score_total/len(students))\n",
    "\n",
    "from functools import reduce\n",
    "reduce_total = reduce(lambda total, student: student.score + total , students, 0)\n",
    "\n",
    "print(reduce_total/len(students))"
   ]
  },
  {
   "cell_type": "code",
   "execution_count": 54,
   "metadata": {},
   "outputs": [
    {
     "name": "stdout",
     "output_type": "stream",
     "text": [
      "120\n"
     ]
    }
   ],
   "source": [
    "numbers = [1,2,3,4,5]\n",
    "\n",
    "reduce_total = reduce(lambda total, number: number*total, numbers, 1)\n",
    "\n",
    "print(reduce_total)"
   ]
  },
  {
   "cell_type": "code",
   "execution_count": 55,
   "metadata": {},
   "outputs": [
    {
     "name": "stdout",
     "output_type": "stream",
     "text": [
      "b'403 - Forbidden | Access to this page is forbidden.\\n'\n"
     ]
    }
   ],
   "source": [
    "import requests\n",
    "\n",
    "url = \"https://pixelford.com/blog/\"\n",
    "response = requests.get(url)\n",
    "print(response.content)"
   ]
  },
  {
   "cell_type": "markdown",
   "metadata": {},
   "source": [
    "This is because too many scrap requests, the webpage blocked, \n",
    "view the workaround below for the solution."
   ]
  },
  {
   "cell_type": "code",
   "execution_count": 56,
   "metadata": {},
   "outputs": [
    {
     "name": "stdout",
     "output_type": "stream",
     "text": [
      "b'<!DOCTYPE html>\\n<html lang=\"en-US\">\\n<head >\\n<meta charset=\"UTF-8\" />\\n<meta name=\"viewport\" content=\"width=device-width, initial-scale=1\" />\\n<title>Blog</title>\\n<meta name=\\'robots\\' content=\\'max-image-preview:large\\' />\\n<link rel=\\'dns-prefetch\\' href=\\'//netdna.bootstrapcdn.com\\' />\\n<link rel=\\'dns-prefetch\\' href=\\'//fonts.googleapis.com\\' />\\n<link rel=\"alternate\" type=\"application/rss+xml\" title=\"Pixelford Photography &raquo; Feed\" href=\"https://pixelford.com/feed/\" />\\n<link rel=\"alternate\" type=\"application/rss+xml\" title=\"Pixelford Photography &raquo; Comments Feed\" href=\"https://pixelford.com/comments/feed/\" />\\n<script type=\"text/javascript\">\\n/* <![CDATA[ */\\nwindow._wpemojiSettings = {\"baseUrl\":\"https:\\\\/\\\\/s.w.org\\\\/images\\\\/core\\\\/emoji\\\\/15.0.3\\\\/72x72\\\\/\",\"ext\":\".png\",\"svgUrl\":\"https:\\\\/\\\\/s.w.org\\\\/images\\\\/core\\\\/emoji\\\\/15.0.3\\\\/svg\\\\/\",\"svgExt\":\".svg\",\"source\":{\"concatemoji\":\"https:\\\\/\\\\/pixelford.com\\\\/wp-includes\\\\/js\\\\/wp-emoji-release.min.js?ver=6.5\"}};\\n/*! This file is auto-generated */\\n!function(i,n){var o,s,e;function c(e){try{var t={supportTests:e,timestamp:(new Date).valueOf()};sessionStorage.setItem(o,JSON.stringify(t))}catch(e){}}function p(e,t,n){e.clearRect(0,0,e.canvas.width,e.canvas.height),e.fillText(t,0,0);var t=new Uint32Array(e.getImageData(0,0,e.canvas.width,e.canvas.height).data),r=(e.clearRect(0,0,e.canvas.width,e.canvas.height),e.fillText(n,0,0),new Uint32Array(e.getImageData(0,0,e.canvas.width,e.canvas.height).data));return t.every(function(e,t){return e===r[t]})}function u(e,t,n){switch(t){case\"flag\":return n(e,\"\\\\ud83c\\\\udff3\\\\ufe0f\\\\u200d\\\\u26a7\\\\ufe0f\",\"\\\\ud83c\\\\udff3\\\\ufe0f\\\\u200b\\\\u26a7\\\\ufe0f\")?!1:!n(e,\"\\\\ud83c\\\\uddfa\\\\ud83c\\\\uddf3\",\"\\\\ud83c\\\\uddfa\\\\u200b\\\\ud83c\\\\uddf3\")&&!n(e,\"\\\\ud83c\\\\udff4\\\\udb40\\\\udc67\\\\udb40\\\\udc62\\\\udb40\\\\udc65\\\\udb40\\\\udc6e\\\\udb40\\\\udc67\\\\udb40\\\\udc7f\",\"\\\\ud83c\\\\udff4\\\\u200b\\\\udb40\\\\udc67\\\\u200b\\\\udb40\\\\udc62\\\\u200b\\\\udb40\\\\udc65\\\\u200b\\\\udb40\\\\udc6e\\\\u200b\\\\udb40\\\\udc67\\\\u200b\\\\udb40\\\\udc7f\");case\"emoji\":return!n(e,\"\\\\ud83d\\\\udc26\\\\u200d\\\\u2b1b\",\"\\\\ud83d\\\\udc26\\\\u200b\\\\u2b1b\")}return!1}function f(e,t,n){var r=\"undefined\"!=typeof WorkerGlobalScope&&self instanceof WorkerGlobalScope?new OffscreenCanvas(300,150):i.createElement(\"canvas\"),a=r.getContext(\"2d\",{willReadFrequently:!0}),o=(a.textBaseline=\"top\",a.font=\"600 32px Arial\",{});return e.forEach(function(e){o[e]=t(a,e,n)}),o}function t(e){var t=i.createElement(\"script\");t.src=e,t.defer=!0,i.head.appendChild(t)}\"undefined\"!=typeof Promise&&(o=\"wpEmojiSettingsSupports\",s=[\"flag\",\"emoji\"],n.supports={everything:!0,everythingExceptFlag:!0},e=new Promise(function(e){i.addEventListener(\"DOMContentLoaded\",e,{once:!0})}),new Promise(function(t){var n=function(){try{var e=JSON.parse(sessionStorage.getItem(o));if(\"object\"==typeof e&&\"number\"==typeof e.timestamp&&(new Date).valueOf()<e.timestamp+604800&&\"object\"==typeof e.supportTests)return e.supportTests}catch(e){}return null}();if(!n){if(\"undefined\"!=typeof Worker&&\"undefined\"!=typeof OffscreenCanvas&&\"undefined\"!=typeof URL&&URL.createObjectURL&&\"undefined\"!=typeof Blob)try{var e=\"postMessage(\"+f.toString()+\"(\"+[JSON.stringify(s),u.toString(),p.toString()].join(\",\")+\"));\",r=new Blob([e],{type:\"text/javascript\"}),a=new Worker(URL.createObjectURL(r),{name:\"wpTestEmojiSupports\"});return void(a.onmessage=function(e){c(n=e.data),a.terminate(),t(n)})}catch(e){}c(n=f(s,u,p))}t(n)}).then(function(e){for(var t in e)n.supports[t]=e[t],n.supports.everything=n.supports.everything&&n.supports[t],\"flag\"!==t&&(n.supports.everythingExceptFlag=n.supports.everythingExceptFlag&&n.supports[t]);n.supports.everythingExceptFlag=n.supports.everythingExceptFlag&&!n.supports.flag,n.DOMReady=!1,n.readyCallback=function(){n.DOMReady=!0}}).then(function(){return e}).then(function(){var e;n.supports.everything||(n.readyCallback(),(e=n.source||{}).concatemoji?t(e.concatemoji):e.wpemoji&&e.twemoji&&(t(e.twemoji),t(e.wpemoji)))}))}((window,document),window._wpemojiSettings);\\n/* ]]> */\\n</script>\\n<link rel=\\'stylesheet\\' id=\\'agency-pro-theme-css\\' href=\\'https://pixelford.com/wp-content/themes/agency-pro/style.css?ver=3.1.2\\' type=\\'text/css\\' media=\\'all\\' />\\n<style id=\\'wp-emoji-styles-inline-css\\' type=\\'text/css\\'>\\n\\n\\timg.wp-smiley, img.emoji {\\n\\t\\tdisplay: inline !important;\\n\\t\\tborder: none !important;\\n\\t\\tbox-shadow: none !important;\\n\\t\\theight: 1em !important;\\n\\t\\twidth: 1em !important;\\n\\t\\tmargin: 0 0.07em !important;\\n\\t\\tvertical-align: -0.1em !important;\\n\\t\\tbackground: none !important;\\n\\t\\tpadding: 0 !important;\\n\\t}\\n</style>\\n<link rel=\\'stylesheet\\' id=\\'wp-block-library-css\\' href=\\'https://pixelford.com/wp-includes/css/dist/block-library/style.min.css?ver=6.5\\' type=\\'text/css\\' media=\\'all\\' />\\n<style id=\\'classic-theme-styles-inline-css\\' type=\\'text/css\\'>\\n/*! This file is auto-generated */\\n.wp-block-button__link{color:#fff;background-color:#32373c;border-radius:9999px;box-shadow:none;text-decoration:none;padding:calc(.667em + 2px) calc(1.333em + 2px);font-size:1.125em}.wp-block-file__button{background:#32373c;color:#fff;text-decoration:none}\\n</style>\\n<style id=\\'global-styles-inline-css\\' type=\\'text/css\\'>\\nbody{--wp--preset--color--black: #000000;--wp--preset--color--cyan-bluish-gray: #abb8c3;--wp--preset--color--white: #ffffff;--wp--preset--color--pale-pink: #f78da7;--wp--preset--color--vivid-red: #cf2e2e;--wp--preset--color--luminous-vivid-orange: #ff6900;--wp--preset--color--luminous-vivid-amber: #fcb900;--wp--preset--color--light-green-cyan: #7bdcb5;--wp--preset--color--vivid-green-cyan: #00d084;--wp--preset--color--pale-cyan-blue: #8ed1fc;--wp--preset--color--vivid-cyan-blue: #0693e3;--wp--preset--color--vivid-purple: #9b51e0;--wp--preset--gradient--vivid-cyan-blue-to-vivid-purple: linear-gradient(135deg,rgba(6,147,227,1) 0%,rgb(155,81,224) 100%);--wp--preset--gradient--light-green-cyan-to-vivid-green-cyan: linear-gradient(135deg,rgb(122,220,180) 0%,rgb(0,208,130) 100%);--wp--preset--gradient--luminous-vivid-amber-to-luminous-vivid-orange: linear-gradient(135deg,rgba(252,185,0,1) 0%,rgba(255,105,0,1) 100%);--wp--preset--gradient--luminous-vivid-orange-to-vivid-red: linear-gradient(135deg,rgba(255,105,0,1) 0%,rgb(207,46,46) 100%);--wp--preset--gradient--very-light-gray-to-cyan-bluish-gray: linear-gradient(135deg,rgb(238,238,238) 0%,rgb(169,184,195) 100%);--wp--preset--gradient--cool-to-warm-spectrum: linear-gradient(135deg,rgb(74,234,220) 0%,rgb(151,120,209) 20%,rgb(207,42,186) 40%,rgb(238,44,130) 60%,rgb(251,105,98) 80%,rgb(254,248,76) 100%);--wp--preset--gradient--blush-light-purple: linear-gradient(135deg,rgb(255,206,236) 0%,rgb(152,150,240) 100%);--wp--preset--gradient--blush-bordeaux: linear-gradient(135deg,rgb(254,205,165) 0%,rgb(254,45,45) 50%,rgb(107,0,62) 100%);--wp--preset--gradient--luminous-dusk: linear-gradient(135deg,rgb(255,203,112) 0%,rgb(199,81,192) 50%,rgb(65,88,208) 100%);--wp--preset--gradient--pale-ocean: linear-gradient(135deg,rgb(255,245,203) 0%,rgb(182,227,212) 50%,rgb(51,167,181) 100%);--wp--preset--gradient--electric-grass: linear-gradient(135deg,rgb(202,248,128) 0%,rgb(113,206,126) 100%);--wp--preset--gradient--midnight: linear-gradient(135deg,rgb(2,3,129) 0%,rgb(40,116,252) 100%);--wp--preset--font-size--small: 13px;--wp--preset--font-size--medium: 20px;--wp--preset--font-size--large: 36px;--wp--preset--font-size--x-large: 42px;--wp--preset--spacing--20: 0.44rem;--wp--preset--spacing--30: 0.67rem;--wp--preset--spacing--40: 1rem;--wp--preset--spacing--50: 1.5rem;--wp--preset--spacing--60: 2.25rem;--wp--preset--spacing--70: 3.38rem;--wp--preset--spacing--80: 5.06rem;--wp--preset--shadow--natural: 6px 6px 9px rgba(0, 0, 0, 0.2);--wp--preset--shadow--deep: 12px 12px 50px rgba(0, 0, 0, 0.4);--wp--preset--shadow--sharp: 6px 6px 0px rgba(0, 0, 0, 0.2);--wp--preset--shadow--outlined: 6px 6px 0px -3px rgba(255, 255, 255, 1), 6px 6px rgba(0, 0, 0, 1);--wp--preset--shadow--crisp: 6px 6px 0px rgba(0, 0, 0, 1);}:where(.is-layout-flex){gap: 0.5em;}:where(.is-layout-grid){gap: 0.5em;}body .is-layout-flow > .alignleft{float: left;margin-inline-start: 0;margin-inline-end: 2em;}body .is-layout-flow > .alignright{float: right;margin-inline-start: 2em;margin-inline-end: 0;}body .is-layout-flow > .aligncenter{margin-left: auto !important;margin-right: auto !important;}body .is-layout-constrained > .alignleft{float: left;margin-inline-start: 0;margin-inline-end: 2em;}body .is-layout-constrained > .alignright{float: right;margin-inline-start: 2em;margin-inline-end: 0;}body .is-layout-constrained > .aligncenter{margin-left: auto !important;margin-right: auto !important;}body .is-layout-constrained > :where(:not(.alignleft):not(.alignright):not(.alignfull)){max-width: var(--wp--style--global--content-size);margin-left: auto !important;margin-right: auto !important;}body .is-layout-constrained > .alignwide{max-width: var(--wp--style--global--wide-size);}body .is-layout-flex{display: flex;}body .is-layout-flex{flex-wrap: wrap;align-items: center;}body .is-layout-flex > *{margin: 0;}body .is-layout-grid{display: grid;}body .is-layout-grid > *{margin: 0;}:where(.wp-block-columns.is-layout-flex){gap: 2em;}:where(.wp-block-columns.is-layout-grid){gap: 2em;}:where(.wp-block-post-template.is-layout-flex){gap: 1.25em;}:where(.wp-block-post-template.is-layout-grid){gap: 1.25em;}.has-black-color{color: var(--wp--preset--color--black) !important;}.has-cyan-bluish-gray-color{color: var(--wp--preset--color--cyan-bluish-gray) !important;}.has-white-color{color: var(--wp--preset--color--white) !important;}.has-pale-pink-color{color: var(--wp--preset--color--pale-pink) !important;}.has-vivid-red-color{color: var(--wp--preset--color--vivid-red) !important;}.has-luminous-vivid-orange-color{color: var(--wp--preset--color--luminous-vivid-orange) !important;}.has-luminous-vivid-amber-color{color: var(--wp--preset--color--luminous-vivid-amber) !important;}.has-light-green-cyan-color{color: var(--wp--preset--color--light-green-cyan) !important;}.has-vivid-green-cyan-color{color: var(--wp--preset--color--vivid-green-cyan) !important;}.has-pale-cyan-blue-color{color: var(--wp--preset--color--pale-cyan-blue) !important;}.has-vivid-cyan-blue-color{color: var(--wp--preset--color--vivid-cyan-blue) !important;}.has-vivid-purple-color{color: var(--wp--preset--color--vivid-purple) !important;}.has-black-background-color{background-color: var(--wp--preset--color--black) !important;}.has-cyan-bluish-gray-background-color{background-color: var(--wp--preset--color--cyan-bluish-gray) !important;}.has-white-background-color{background-color: var(--wp--preset--color--white) !important;}.has-pale-pink-background-color{background-color: var(--wp--preset--color--pale-pink) !important;}.has-vivid-red-background-color{background-color: var(--wp--preset--color--vivid-red) !important;}.has-luminous-vivid-orange-background-color{background-color: var(--wp--preset--color--luminous-vivid-orange) !important;}.has-luminous-vivid-amber-background-color{background-color: var(--wp--preset--color--luminous-vivid-amber) !important;}.has-light-green-cyan-background-color{background-color: var(--wp--preset--color--light-green-cyan) !important;}.has-vivid-green-cyan-background-color{background-color: var(--wp--preset--color--vivid-green-cyan) !important;}.has-pale-cyan-blue-background-color{background-color: var(--wp--preset--color--pale-cyan-blue) !important;}.has-vivid-cyan-blue-background-color{background-color: var(--wp--preset--color--vivid-cyan-blue) !important;}.has-vivid-purple-background-color{background-color: var(--wp--preset--color--vivid-purple) !important;}.has-black-border-color{border-color: var(--wp--preset--color--black) !important;}.has-cyan-bluish-gray-border-color{border-color: var(--wp--preset--color--cyan-bluish-gray) !important;}.has-white-border-color{border-color: var(--wp--preset--color--white) !important;}.has-pale-pink-border-color{border-color: var(--wp--preset--color--pale-pink) !important;}.has-vivid-red-border-color{border-color: var(--wp--preset--color--vivid-red) !important;}.has-luminous-vivid-orange-border-color{border-color: var(--wp--preset--color--luminous-vivid-orange) !important;}.has-luminous-vivid-amber-border-color{border-color: var(--wp--preset--color--luminous-vivid-amber) !important;}.has-light-green-cyan-border-color{border-color: var(--wp--preset--color--light-green-cyan) !important;}.has-vivid-green-cyan-border-color{border-color: var(--wp--preset--color--vivid-green-cyan) !important;}.has-pale-cyan-blue-border-color{border-color: var(--wp--preset--color--pale-cyan-blue) !important;}.has-vivid-cyan-blue-border-color{border-color: var(--wp--preset--color--vivid-cyan-blue) !important;}.has-vivid-purple-border-color{border-color: var(--wp--preset--color--vivid-purple) !important;}.has-vivid-cyan-blue-to-vivid-purple-gradient-background{background: var(--wp--preset--gradient--vivid-cyan-blue-to-vivid-purple) !important;}.has-light-green-cyan-to-vivid-green-cyan-gradient-background{background: var(--wp--preset--gradient--light-green-cyan-to-vivid-green-cyan) !important;}.has-luminous-vivid-amber-to-luminous-vivid-orange-gradient-background{background: var(--wp--preset--gradient--luminous-vivid-amber-to-luminous-vivid-orange) !important;}.has-luminous-vivid-orange-to-vivid-red-gradient-background{background: var(--wp--preset--gradient--luminous-vivid-orange-to-vivid-red) !important;}.has-very-light-gray-to-cyan-bluish-gray-gradient-background{background: var(--wp--preset--gradient--very-light-gray-to-cyan-bluish-gray) !important;}.has-cool-to-warm-spectrum-gradient-background{background: var(--wp--preset--gradient--cool-to-warm-spectrum) !important;}.has-blush-light-purple-gradient-background{background: var(--wp--preset--gradient--blush-light-purple) !important;}.has-blush-bordeaux-gradient-background{background: var(--wp--preset--gradient--blush-bordeaux) !important;}.has-luminous-dusk-gradient-background{background: var(--wp--preset--gradient--luminous-dusk) !important;}.has-pale-ocean-gradient-background{background: var(--wp--preset--gradient--pale-ocean) !important;}.has-electric-grass-gradient-background{background: var(--wp--preset--gradient--electric-grass) !important;}.has-midnight-gradient-background{background: var(--wp--preset--gradient--midnight) !important;}.has-small-font-size{font-size: var(--wp--preset--font-size--small) !important;}.has-medium-font-size{font-size: var(--wp--preset--font-size--medium) !important;}.has-large-font-size{font-size: var(--wp--preset--font-size--large) !important;}.has-x-large-font-size{font-size: var(--wp--preset--font-size--x-large) !important;}\\n.wp-block-navigation a:where(:not(.wp-element-button)){color: inherit;}\\n:where(.wp-block-post-template.is-layout-flex){gap: 1.25em;}:where(.wp-block-post-template.is-layout-grid){gap: 1.25em;}\\n:where(.wp-block-columns.is-layout-flex){gap: 2em;}:where(.wp-block-columns.is-layout-grid){gap: 2em;}\\n.wp-block-pullquote{font-size: 1.5em;line-height: 1.6;}\\n</style>\\n<link rel=\\'stylesheet\\' id=\\'finalTilesGallery_stylesheet-css\\' href=\\'https://pixelford.com/wp-content/plugins/final-tiles-grid-gallery-lite/scripts/ftg.css?ver=3.5.8\\' type=\\'text/css\\' media=\\'all\\' />\\n<link rel=\\'stylesheet\\' id=\\'fontawesome_stylesheet-css\\' href=\\'//netdna.bootstrapcdn.com/font-awesome/4.7.0/css/font-awesome.css?ver=6.5\\' type=\\'text/css\\' media=\\'all\\' />\\n<link rel=\\'stylesheet\\' id=\\'contact-form-7-css\\' href=\\'https://pixelford.com/wp-content/plugins/contact-form-7/includes/css/styles.css?ver=5.9.3\\' type=\\'text/css\\' media=\\'all\\' />\\n<link rel=\\'stylesheet\\' id=\\'dashicons-css\\' href=\\'https://pixelford.com/wp-includes/css/dashicons.min.css?ver=6.5\\' type=\\'text/css\\' media=\\'all\\' />\\n<link rel=\\'stylesheet\\' id=\\'google-fonts-css\\' href=\\'//fonts.googleapis.com/css?family=EB+Garamond%7CSpinnaker&#038;ver=3.1.2\\' type=\\'text/css\\' media=\\'all\\' />\\n<link rel=\\'stylesheet\\' id=\\'fancybox-css\\' href=\\'https://pixelford.com/wp-content/plugins/easy-fancybox/fancybox/1.5.4/jquery.fancybox.min.css?ver=6.5\\' type=\\'text/css\\' media=\\'screen\\' />\\n<script type=\"text/javascript\" src=\"https://pixelford.com/wp-includes/js/jquery/jquery.min.js?ver=3.7.1\" id=\"jquery-core-js\"></script>\\n<script type=\"text/javascript\" src=\"https://pixelford.com/wp-includes/js/jquery/jquery-migrate.min.js?ver=3.4.1\" id=\"jquery-migrate-js\"></script>\\n<script type=\"text/javascript\" src=\"https://pixelford.com/wp-content/themes/agency-pro/js/responsive-menu.js?ver=1.0.0\" id=\"agency-responsive-menu-js\"></script>\\n<script type=\"text/javascript\" src=\"https://pixelford.com/wp-content/themes/agency-pro/js/backstretch.js?ver=1.0.0\" id=\"agency-pro-backstretch-js\"></script>\\n<script type=\"text/javascript\" id=\"agency-pro-backstretch-set-js-extra\">\\n/* <![CDATA[ */\\nvar BackStretchImg = {\"src\":\"https:\\\\/\\\\/pixelford.com\\\\/wp-content\\\\/uploads\\\\/2017\\\\/08\\\\/background_1600x1000_boardwalk-at-night-CI_153151451.png\"};\\n/* ]]> */\\n</script>\\n<script type=\"text/javascript\" src=\"https://pixelford.com/wp-content/themes/agency-pro/js/backstretch-set.js?ver=1.0.0\" id=\"agency-pro-backstretch-set-js\"></script>\\n<link rel=\"https://api.w.org/\" href=\"https://pixelford.com/wp-json/\" /><link rel=\"EditURI\" type=\"application/rsd+xml\" title=\"RSD\" href=\"https://pixelford.com/xmlrpc.php?rsd\" />\\n<script async src=\"https://pagead2.googlesyndication.com/pagead/js/adsbygoogle.js\"></script>\\n<script>\\n  (adsbygoogle = window.adsbygoogle || []).push({\\n    google_ad_client: \"ca-pub-6388069882246537\",\\n    enable_page_level_ads: true\\n  });\\n</script><style type=\"text/css\">.site-title a { background: url(https://pixelford.com/wp-content/uploads/2017/08/cropped-logo_300x60.png) no-repeat !important; }</style>\\n<style type=\"text/css\" id=\"custom-background-css\">\\nbody.custom-background { background-color: #cdced3; }\\n</style>\\n\\t<link rel=\"icon\" href=\"https://pixelford.com/wp-content/uploads/2017/08/cropped-favicon_BW-32x32.png\" sizes=\"32x32\" />\\n<link rel=\"icon\" href=\"https://pixelford.com/wp-content/uploads/2017/08/cropped-favicon_BW-192x192.png\" sizes=\"192x192\" />\\n<link rel=\"apple-touch-icon\" href=\"https://pixelford.com/wp-content/uploads/2017/08/cropped-favicon_BW-180x180.png\" />\\n<meta name=\"msapplication-TileImage\" content=\"https://pixelford.com/wp-content/uploads/2017/08/cropped-favicon_BW-270x270.png\" />\\n\\t\\t<style type=\"text/css\" id=\"wp-custom-css\">\\n\\t\\t\\t/*\\nWelcome to Custom CSS!\\n\\nCSS (Cascading Style Sheets) is a kind of code that tells the browser how\\nto render a web page. You may delete these comments and get started with\\nyour customizations.\\n\\nBy default, your stylesheet will be loaded after the theme stylesheets,\\nwhich means that your rules can take precedence and override the theme CSS\\nrules. Just write here what you want to change, you don\\'t need to copy all\\nyour theme\\'s stylesheet content.\\n*/\\n\\n\\n/* Begin My code */\\n\\n.site-header {\\n\\tbackground-color: #cdced3  ;\\n\\tleft: 0;\\n\\tmin-height: 61px;\\n\\tposition: fixed;\\n\\ttop: 0;\\n\\twidth: 100%;\\n\\tz-index: 999;\\n}\\n\\n/* End My code */\\n\\n\\n\\n.title-area {\\n\\tfloat: left;\\n\\tpadding: 16px 0;\\n\\twidth: 500px;\\n}\\n\\n\\n.site-header .widget-area {\\n\\tfloat: right;\\n\\ttext-align: right;\\n\\twidth: 600px;\\n}\\n\\n\\n.full-width-content .content {\\n\\twidth: 75%;\\n\\tfloat: none;\\n\\tmargin: 0 auto;\\n}\\n\\n.home.full-width-content .content {\\n\\twidth: 100%;\\n}\\n\\n.tiled-gallery .gallery-row {\\n\\tmargin: 0 auto;\\n}\\n\\n@media only screen and (max-width: 1023px) {\\n\\t.site-header .widget-area,\\n\\t.title-area {\\n\\t\\twidth: 100%;\\n\\t}\\n}\\t\\t</style>\\n\\t\\t</head>\\n<body class=\"blog custom-background custom-header header-image full-width-content genesis-breadcrumbs-hidden genesis-footer-widgets-visible agency-pro-red\" itemscope itemtype=\"https://schema.org/WebPage\"><header class=\"site-header\" itemscope itemtype=\"https://schema.org/WPHeader\"><div class=\"wrap\"><div class=\"title-area\"><p class=\"site-title\" itemprop=\"headline\"><a href=\"https://pixelford.com/\">Pixelford Photography</a></p></div><div class=\"widget-area header-widget-area\"><section id=\"nav_menu-2\" class=\"widget widget_nav_menu\"><div class=\"widget-wrap\"><nav class=\"nav-header\" itemscope itemtype=\"https://schema.org/SiteNavigationElement\"><ul id=\"menu-main-menu\" class=\"menu genesis-nav-menu\"><li id=\"menu-item-508\" class=\"menu-item menu-item-type-post_type menu-item-object-page menu-item-508\"><a href=\"https://pixelford.com/about/\" itemprop=\"url\"><span itemprop=\"name\">About</span></a></li>\\n<li id=\"menu-item-503\" class=\"menu-item menu-item-type-post_type menu-item-object-page current-menu-item page_item page-item-488 current_page_item current_page_parent menu-item-503\"><a href=\"https://pixelford.com/blog/\" aria-current=\"page\" itemprop=\"url\"><span itemprop=\"name\">Blog</span></a></li>\\n<li id=\"menu-item-504\" class=\"menu-item menu-item-type-post_type menu-item-object-page menu-item-has-children menu-item-504\"><a href=\"https://pixelford.com/services/\" itemprop=\"url\"><span itemprop=\"name\">Services</span></a>\\n<ul class=\"sub-menu\">\\n\\t<li id=\"menu-item-505\" class=\"menu-item menu-item-type-post_type menu-item-object-page menu-item-505\"><a href=\"https://pixelford.com/process/\" itemprop=\"url\"><span itemprop=\"name\">Our Process</span></a></li>\\n\\t<li id=\"menu-item-506\" class=\"menu-item menu-item-type-post_type menu-item-object-page menu-item-506\"><a href=\"https://pixelford.com/pricing/\" itemprop=\"url\"><span itemprop=\"name\">Pricing</span></a></li>\\n</ul>\\n</li>\\n<li id=\"menu-item-514\" class=\"menu-item menu-item-type-custom menu-item-object-custom menu-item-has-children menu-item-514\"><a href=\"https://pixelford.com/portfolio/\" itemprop=\"url\"><span itemprop=\"name\">Portfolio</span></a>\\n<ul class=\"sub-menu\">\\n\\t<li id=\"menu-item-714\" class=\"menu-item menu-item-type-post_type menu-item-object-page menu-item-714\"><a href=\"https://pixelford.com/baby/\" itemprop=\"url\"><span itemprop=\"name\">Babies</span></a></li>\\n\\t<li id=\"menu-item-726\" class=\"menu-item menu-item-type-post_type menu-item-object-page menu-item-726\"><a href=\"https://pixelford.com/engagement/\" itemprop=\"url\"><span itemprop=\"name\">Engagement</span></a></li>\\n\\t<li id=\"menu-item-725\" class=\"menu-item menu-item-type-post_type menu-item-object-page menu-item-725\"><a href=\"https://pixelford.com/family/\" itemprop=\"url\"><span itemprop=\"name\">Family</span></a></li>\\n\\t<li id=\"menu-item-724\" class=\"menu-item menu-item-type-post_type menu-item-object-page menu-item-724\"><a href=\"https://pixelford.com/fashion/\" itemprop=\"url\"><span itemprop=\"name\">Fashion</span></a></li>\\n\\t<li id=\"menu-item-723\" class=\"menu-item menu-item-type-post_type menu-item-object-page menu-item-723\"><a href=\"https://pixelford.com/travel-lifestyle/\" itemprop=\"url\"><span itemprop=\"name\">Travel &#038; Lifestyle</span></a></li>\\n</ul>\\n</li>\\n<li id=\"menu-item-507\" class=\"menu-item menu-item-type-post_type menu-item-object-page menu-item-507\"><a href=\"https://pixelford.com/contact/\" itemprop=\"url\"><span itemprop=\"name\">Contact</span></a></li>\\n</ul></nav></div></section>\\n</div></div></header><div class=\"site-container\"><div class=\"site-inner\"><div class=\"content-sidebar-wrap\"><main class=\"content\"><article class=\"post-23 post type-post status-publish format-standard has-post-thumbnail category-client-stories entry\" aria-label=\"Jake Neopolt, \\xe2\\x80\\x9cFire in the Sky\\xe2\\x80\\x9d album cover\" itemscope itemtype=\"https://schema.org/CreativeWork\"><header class=\"entry-header\"><h2 class=\"entry-title\" itemprop=\"headline\"><a class=\"entry-title-link\" rel=\"bookmark\" href=\"https://pixelford.com/jake-neopolt-fire-sky-album-cover/\">Jake Neopolt, \\xe2\\x80\\x9cFire in the Sky\\xe2\\x80\\x9d album cover</a></h2>\\n<p class=\"entry-meta\"><time class=\"entry-time\" itemprop=\"datePublished\" datetime=\"2023-09-18T18:24:00+00:00\">September 18, 2023</time> By <span class=\"entry-author\" itemprop=\"author\" itemscope itemtype=\"https://schema.org/Person\"><a href=\"https://pixelford.com/author/assets/\" class=\"entry-author-link\" rel=\"author\" itemprop=\"url\"><span class=\"entry-author-name\" itemprop=\"name\">admin</span></a></span>  </p></header><div class=\"entry-content\" itemprop=\"text\"><p>Simon Pixelford often walked past Jake Neopolt, busking his heart out on the sidewalk, by the nearest subway stop. Jake\\xe2\\x80\\x99s well-worn guitar hinted at a passion that could not go unknown for long. His singing voice expelled rugged and catchy melodies that Simon and the other photographers would find themselves humming throughout the day. So when a local music producer contacted Pixelford Photography to shoot an album cover shoot for a recently discovered talent, the team was enthralled when Jake appeared on location on the day of the shoot. Humble yet funny, crass yet refined, with a willingness to do anything &#8211; Jake was a photographer\\xe2\\x80\\x99s dream. His only demand that day, asserted with a mischievous smile, was \\xe2\\x80\\x9cdo what you do \\xe2\\x80\\x93 but make sure my gangly mug is blown out by the sun.\\xe2\\x80\\x9d And that is exactly what the photographers set to work doing. The \\xe2\\x80\\x9cFire in the Sky\\xe2\\x80\\x9d album cover features simple photos of Jake, blasted by the sun \\xe2\\x80\\x93 hinting at a raw and burning talent. When asked what he thought about the images, Jake said \\xe2\\x80\\x9cthey tell the exact story I wanted them to tell \\xe2\\x80\\x93 and you guys totally rock!\\xe2\\x80\\x9d Jake\\xe2\\x80\\x99s career is flying high now, and we think there\\xe2\\x80\\x99s no one who deserves it more.</p>\\n<div id=\\'gallery-1\\' class=\\'gallery galleryid-23 gallery-columns-3 gallery-size-large\\'><figure class=\\'gallery-item\\'>\\n\\t\\t\\t<div class=\\'gallery-icon portrait\\'>\\n\\t\\t\\t\\t<a href=\\'https://pixelford.com/wp-content/uploads/2015/01/Jake-Neopolt_531277211.jpg\\'><img decoding=\"async\" width=\"667\" height=\"1000\" src=\"https://pixelford.com/wp-content/uploads/2015/01/Jake-Neopolt_531277211.jpg\" class=\"attachment-large size-large\" alt=\"Jake Neopolt\" aria-describedby=\"gallery-1-408\" srcset=\"https://pixelford.com/wp-content/uploads/2015/01/Jake-Neopolt_531277211.jpg 667w, https://pixelford.com/wp-content/uploads/2015/01/Jake-Neopolt_531277211-200x300.jpg 200w\" sizes=\"(max-width: 667px) 100vw, 667px\" /></a>\\n\\t\\t\\t</div>\\n\\t\\t\\t\\t<figcaption class=\\'wp-caption-text gallery-caption\\' id=\\'gallery-1-408\\'>\\n\\t\\t\\t\\tJake Neopolt\\n\\t\\t\\t\\t</figcaption></figure><figure class=\\'gallery-item\\'>\\n\\t\\t\\t<div class=\\'gallery-icon landscape\\'>\\n\\t\\t\\t\\t<a href=\\'https://pixelford.com/wp-content/uploads/2015/01/Jake-Neopolt_531279803.jpg\\'><img decoding=\"async\" width=\"1000\" height=\"667\" src=\"https://pixelford.com/wp-content/uploads/2015/01/Jake-Neopolt_531279803.jpg\" class=\"attachment-large size-large\" alt=\"Jake Neopolt\" aria-describedby=\"gallery-1-410\" srcset=\"https://pixelford.com/wp-content/uploads/2015/01/Jake-Neopolt_531279803.jpg 1000w, https://pixelford.com/wp-content/uploads/2015/01/Jake-Neopolt_531279803-300x200.jpg 300w\" sizes=\"(max-width: 1000px) 100vw, 1000px\" /></a>\\n\\t\\t\\t</div>\\n\\t\\t\\t\\t<figcaption class=\\'wp-caption-text gallery-caption\\' id=\\'gallery-1-410\\'>\\n\\t\\t\\t\\tJake Neopolt\\n\\t\\t\\t\\t</figcaption></figure><figure class=\\'gallery-item\\'>\\n\\t\\t\\t<div class=\\'gallery-icon landscape\\'>\\n\\t\\t\\t\\t<a href=\\'https://pixelford.com/wp-content/uploads/2015/01/Jake-Neopolt_531279801.jpg\\'><img loading=\"lazy\" decoding=\"async\" width=\"1000\" height=\"699\" src=\"https://pixelford.com/wp-content/uploads/2015/01/Jake-Neopolt_531279801.jpg\" class=\"attachment-large size-large\" alt=\"Jake Neopolt\" aria-describedby=\"gallery-1-409\" srcset=\"https://pixelford.com/wp-content/uploads/2015/01/Jake-Neopolt_531279801.jpg 1000w, https://pixelford.com/wp-content/uploads/2015/01/Jake-Neopolt_531279801-300x210.jpg 300w\" sizes=\"(max-width: 1000px) 100vw, 1000px\" /></a>\\n\\t\\t\\t</div>\\n\\t\\t\\t\\t<figcaption class=\\'wp-caption-text gallery-caption\\' id=\\'gallery-1-409\\'>\\n\\t\\t\\t\\tJake Neopolt\\n\\t\\t\\t\\t</figcaption></figure><figure class=\\'gallery-item\\'>\\n\\t\\t\\t<div class=\\'gallery-icon landscape\\'>\\n\\t\\t\\t\\t<a href=\\'https://pixelford.com/wp-content/uploads/2015/01/Jake-Neopolt_531279807.jpg\\'><img loading=\"lazy\" decoding=\"async\" width=\"1000\" height=\"667\" src=\"https://pixelford.com/wp-content/uploads/2015/01/Jake-Neopolt_531279807.jpg\" class=\"attachment-large size-large\" alt=\"Jake Neopolt\" aria-describedby=\"gallery-1-411\" srcset=\"https://pixelford.com/wp-content/uploads/2015/01/Jake-Neopolt_531279807.jpg 1000w, https://pixelford.com/wp-content/uploads/2015/01/Jake-Neopolt_531279807-300x200.jpg 300w\" sizes=\"(max-width: 1000px) 100vw, 1000px\" /></a>\\n\\t\\t\\t</div>\\n\\t\\t\\t\\t<figcaption class=\\'wp-caption-text gallery-caption\\' id=\\'gallery-1-411\\'>\\n\\t\\t\\t\\tJake Neopolt\\n\\t\\t\\t\\t</figcaption></figure><figure class=\\'gallery-item\\'>\\n\\t\\t\\t<div class=\\'gallery-icon landscape\\'>\\n\\t\\t\\t\\t<a href=\\'https://pixelford.com/wp-content/uploads/2015/01/Jake-Neopolt_531275583.jpg\\'><img loading=\"lazy\" decoding=\"async\" width=\"1000\" height=\"667\" src=\"https://pixelford.com/wp-content/uploads/2015/01/Jake-Neopolt_531275583.jpg\" class=\"attachment-large size-large\" alt=\"Jake Neopolt\" aria-describedby=\"gallery-1-407\" srcset=\"https://pixelford.com/wp-content/uploads/2015/01/Jake-Neopolt_531275583.jpg 1000w, https://pixelford.com/wp-content/uploads/2015/01/Jake-Neopolt_531275583-300x200.jpg 300w\" sizes=\"(max-width: 1000px) 100vw, 1000px\" /></a>\\n\\t\\t\\t</div>\\n\\t\\t\\t\\t<figcaption class=\\'wp-caption-text gallery-caption\\' id=\\'gallery-1-407\\'>\\n\\t\\t\\t\\tJake Neopolt\\n\\t\\t\\t\\t</figcaption></figure><figure class=\\'gallery-item\\'>\\n\\t\\t\\t<div class=\\'gallery-icon landscape\\'>\\n\\t\\t\\t\\t<a href=\\'https://pixelford.com/wp-content/uploads/2015/01/Jake-Neopolt_531306709.jpg\\'><img loading=\"lazy\" decoding=\"async\" width=\"1000\" height=\"667\" src=\"https://pixelford.com/wp-content/uploads/2015/01/Jake-Neopolt_531306709.jpg\" class=\"attachment-large size-large\" alt=\"Jake Neopolt\" aria-describedby=\"gallery-1-412\" srcset=\"https://pixelford.com/wp-content/uploads/2015/01/Jake-Neopolt_531306709.jpg 1000w, https://pixelford.com/wp-content/uploads/2015/01/Jake-Neopolt_531306709-300x200.jpg 300w\" sizes=\"(max-width: 1000px) 100vw, 1000px\" /></a>\\n\\t\\t\\t</div>\\n\\t\\t\\t\\t<figcaption class=\\'wp-caption-text gallery-caption\\' id=\\'gallery-1-412\\'>\\n\\t\\t\\t\\tJake Neopolt\\n\\t\\t\\t\\t</figcaption></figure>\\n\\t\\t</div>\\n\\n</div><footer class=\"entry-footer\"><p class=\"entry-meta\"><span class=\"entry-categories\">Filed Under: <a href=\"https://pixelford.com/category/client-stories/\" rel=\"category tag\">Client Stories</a></span> </p></footer></article><article class=\"post-173 post type-post status-publish format-standard has-post-thumbnail category-client-stories category-location-shooting-tips entry\" aria-label=\"Brooklyn Bridge \\xe2\\x80\\x93 One Bridge, So Many Options\" itemscope itemtype=\"https://schema.org/CreativeWork\"><header class=\"entry-header\"><h2 class=\"entry-title\" itemprop=\"headline\"><a class=\"entry-title-link\" rel=\"bookmark\" href=\"https://pixelford.com/brooklyn-bridge-one-bridge-many-options/\">Brooklyn Bridge \\xe2\\x80\\x93 One Bridge, So Many Options</a></h2>\\n<p class=\"entry-meta\"><time class=\"entry-time\" itemprop=\"datePublished\" datetime=\"2023-09-04T18:21:46+00:00\">September 4, 2023</time> By <span class=\"entry-author\" itemprop=\"author\" itemscope itemtype=\"https://schema.org/Person\"><a href=\"https://pixelford.com/author/assets/\" class=\"entry-author-link\" rel=\"author\" itemprop=\"url\"><span class=\"entry-author-name\" itemprop=\"name\">admin</span></a></span>  </p></header><div class=\"entry-content\" itemprop=\"text\"><p>The Brooklyn Bridge has become an international icon, having been featured in so many films and photographs. Whether photographing this extraordinary manmade structure from a distance, photographing the Manhattan skyline while standing on the Brooklyn Bridge, or photographing portrait subjects in the vicinity of the bridge, there\\xe2\\x80\\x99s a wealth of variety in considering just this one location. Take a look at the various photos our team has shot, and you\\xe2\\x80\\x99ll see why this famous suspension bridge has a face for all seasons.</p>\\n<p><a href=\"https://pixelford.com/wp-content/uploads/2015/01/Black-White_Brooklyn-Bridge_522914643.jpg\"><img loading=\"lazy\" decoding=\"async\" class=\"alignnone wp-image-442 size-full\" src=\"https://pixelford.com/wp-content/uploads/2015/01/Black-White_Brooklyn-Bridge_522914643.jpg\" alt=\"Black &amp; White Brooklyn Bridge\" width=\"1000\" height=\"656\" srcset=\"https://pixelford.com/wp-content/uploads/2015/01/Black-White_Brooklyn-Bridge_522914643.jpg 1000w, https://pixelford.com/wp-content/uploads/2015/01/Black-White_Brooklyn-Bridge_522914643-300x197.jpg 300w\" sizes=\"(max-width: 1000px) 100vw, 1000px\" /></a></p>\\n<p><strong>Black &amp; White:</strong> The Brooklyn Bridge looks so clean and pristine in black and white.</p>\\n<p><a href=\"https://pixelford.com/wp-content/uploads/2015/01/Blur-of-Activity_Brooklyn-Bridge_524687301.jpg\"><img loading=\"lazy\" decoding=\"async\" class=\"aligncenter wp-image-443 size-full\" src=\"https://pixelford.com/wp-content/uploads/2015/01/Blur-of-Activity_Brooklyn-Bridge_524687301.jpg\" alt=\"Blur of Activity\" width=\"1000\" height=\"667\" srcset=\"https://pixelford.com/wp-content/uploads/2015/01/Blur-of-Activity_Brooklyn-Bridge_524687301.jpg 1000w, https://pixelford.com/wp-content/uploads/2015/01/Blur-of-Activity_Brooklyn-Bridge_524687301-300x200.jpg 300w\" sizes=\"(max-width: 1000px) 100vw, 1000px\" /></a></p>\\n<p><strong>Blur of Activity:</strong> The Brooklyn Bridge is seen here as an important part of the transportation system \\xe2\\x80\\x93 bringing people to and from their destinations, in a blur of activity<strong>.</strong></p>\\n<p><a href=\"https://pixelford.com/wp-content/uploads/2015/01/Color-Sparkle_475459085.jpg\"><img loading=\"lazy\" decoding=\"async\" class=\"aligncenter wp-image-445 size-full\" src=\"https://pixelford.com/wp-content/uploads/2015/01/Color-Sparkle_475459085.jpg\" alt=\"Color &amp; Sparkle\" width=\"1000\" height=\"662\" srcset=\"https://pixelford.com/wp-content/uploads/2015/01/Color-Sparkle_475459085.jpg 1000w, https://pixelford.com/wp-content/uploads/2015/01/Color-Sparkle_475459085-300x199.jpg 300w\" sizes=\"(max-width: 1000px) 100vw, 1000px\" /></a></p>\\n<p><strong>Color &amp; Sparkle:</strong> When not focused on being a main transportation artery, the Brooklyn Bridge is a model of color and sparkle that dons its most popular face in the evening.</p>\\n<p><a href=\"https://pixelford.com/wp-content/uploads/2015/01/Wedding-Walk_Brooklyn-Bridge_76804547.jpg\"><img loading=\"lazy\" decoding=\"async\" class=\"aligncenter wp-image-447 size-full\" src=\"https://pixelford.com/wp-content/uploads/2015/01/Wedding-Walk_Brooklyn-Bridge_76804547.jpg\" alt=\"Wedding Walk\" width=\"667\" height=\"1000\" srcset=\"https://pixelford.com/wp-content/uploads/2015/01/Wedding-Walk_Brooklyn-Bridge_76804547.jpg 667w, https://pixelford.com/wp-content/uploads/2015/01/Wedding-Walk_Brooklyn-Bridge_76804547-200x300.jpg 200w\" sizes=\"(max-width: 667px) 100vw, 667px\" /></a></p>\\n<p><strong>Wedding Walk: </strong>This couple is literally taking a big step in cementing their nuptials.</p>\\n</div><footer class=\"entry-footer\"><p class=\"entry-meta\"><span class=\"entry-categories\">Filed Under: <a href=\"https://pixelford.com/category/client-stories/\" rel=\"category tag\">Client Stories</a>, <a href=\"https://pixelford.com/category/location-shooting-tips/\" rel=\"category tag\">Location Shooting Tips</a></span> </p></footer></article><article class=\"post-155 post type-post status-publish format-standard category-tips-tricks entry\" aria-label=\"Get Rid of Photo Bombers\" itemscope itemtype=\"https://schema.org/CreativeWork\"><header class=\"entry-header\"><h2 class=\"entry-title\" itemprop=\"headline\"><a class=\"entry-title-link\" rel=\"bookmark\" href=\"https://pixelford.com/get-rid-photo-bombers/\">Get Rid of Photo Bombers</a></h2>\\n<p class=\"entry-meta\"><time class=\"entry-time\" itemprop=\"datePublished\" datetime=\"2019-09-13T15:45:28+00:00\">September 13, 2019</time> By <span class=\"entry-author\" itemprop=\"author\" itemscope itemtype=\"https://schema.org/Person\"><a href=\"https://pixelford.com/author/assets/\" class=\"entry-author-link\" rel=\"author\" itemprop=\"url\"><span class=\"entry-author-name\" itemprop=\"name\">admin</span></a></span>  </p></header><div class=\"entry-content\" itemprop=\"text\"><p>You took the time to get everyone into position. The bride and groom are surrounded on the steps of the church by their friends and family. This is going to be a great picture. When you get home and import the photos, tragedy strikes.</p>\\n<p>The best photo of the family has a photo bomber in the background.</p>\\n<p>Fear not. With the amazing digital tools of today, you can easily fix your mistake, without any harm. This tutorial shows the step-by-step process, so you can deliver the photo you intended: <a href=\"https://www.linkedin.com/learning/photoshop-quick-tips/remove-a-person-from-a-photo?u=104\" target=\"_blank\" rel=\"noopener noreferrer\">Deleting the inadvertent photo bomber</a>.</p>\\n</div><footer class=\"entry-footer\"><p class=\"entry-meta\"><span class=\"entry-categories\">Filed Under: <a href=\"https://pixelford.com/category/tips-tricks/\" rel=\"category tag\">Tips &amp; Tricks</a></span> </p></footer></article><article class=\"post-102 post type-post status-publish format-standard has-post-thumbnail category-tips-tricks entry\" aria-label=\"Bridal Gown: Capturing the Details of the Dress\" itemscope itemtype=\"https://schema.org/CreativeWork\"><header class=\"entry-header\"><h2 class=\"entry-title\" itemprop=\"headline\"><a class=\"entry-title-link\" rel=\"bookmark\" href=\"https://pixelford.com/bridal-gown-capturing-details-dress/\">Bridal Gown: Capturing the Details of the Dress</a></h2>\\n<p class=\"entry-meta\"><time class=\"entry-time\" itemprop=\"datePublished\" datetime=\"2019-09-11T19:37:07+00:00\">September 11, 2019</time> By <span class=\"entry-author\" itemprop=\"author\" itemscope itemtype=\"https://schema.org/Person\"><a href=\"https://pixelford.com/author/assets/\" class=\"entry-author-link\" rel=\"author\" itemprop=\"url\"><span class=\"entry-author-name\" itemprop=\"name\">admin</span></a></span>  </p></header><div class=\"entry-content\" itemprop=\"text\"><p>While there are many elements to a wedding, the dress is no doubt one of the most important. Brides often try on a dozen or more, before selecting the perfect dress for their special day. Many dresses include delicate lace and intricate bodices, among many other small details. When photographing a bride, you need to capture these details and make sure the bride looks stunning. This can be difficult, especially given many wedding dresses are solid white. This tutorial demonstrates an interesting technique for bringing out the details of the dress, without washing out the skin tones of the bride.</p>\\n<p>While there are many elements to a wedding, the dress is no doubt one of the most important. Brides often try on a dozen or more, before selecting the perfect dress for their special day. Many dresses include delicate lace and intricate bodices, among many other small details. When photographing a bride, you need to capture these details and make sure the bride looks stunning. This can be difficult, especially given many wedding dresses are solid white. This tutorial demonstrates an <a href=\"http://www.lynda.com/course-tutorials/Bringing-out-detail-wedding-dress/141502/151720-4.html\" target=\"_blank\" rel=\"noopener noreferrer\">interesting technique for bringing out the details of the dress</a>, without washing out the skin tones of the bride.</p>\\n</div><footer class=\"entry-footer\"><p class=\"entry-meta\"><span class=\"entry-categories\">Filed Under: <a href=\"https://pixelford.com/category/tips-tricks/\" rel=\"category tag\">Tips &amp; Tricks</a></span> </p></footer></article><article class=\"post-100 post type-post status-publish format-standard has-post-thumbnail category-tips-tricks entry\" aria-label=\"Shooting a Wedding\" itemscope itemtype=\"https://schema.org/CreativeWork\"><header class=\"entry-header\"><h2 class=\"entry-title\" itemprop=\"headline\"><a class=\"entry-title-link\" rel=\"bookmark\" href=\"https://pixelford.com/shooting-wedding/\">Shooting a Wedding</a></h2>\\n<p class=\"entry-meta\"><time class=\"entry-time\" itemprop=\"datePublished\" datetime=\"2019-09-10T19:35:18+00:00\">September 10, 2019</time> By <span class=\"entry-author\" itemprop=\"author\" itemscope itemtype=\"https://schema.org/Person\"><a href=\"https://pixelford.com/author/assets/\" class=\"entry-author-link\" rel=\"author\" itemprop=\"url\"><span class=\"entry-author-name\" itemprop=\"name\">admin</span></a></span>  </p></header><div class=\"entry-content\" itemprop=\"text\"><p>When shooting a wedding, being prepared is key, not only with your gear but with your location. Just looking at a location&#8217;s website or going off memory from a visit a while back isn&#8217;t going to cut it. Places change, get rearranged, and need to be explored first.</p>\\n<p>Recently I made a trip out to a location to get some shots and plan things out even before the wedding bells were ringing. Once the big day arrived, I was set from the start and knew exactly what look I wanted and how to work with each space. Weddings always have an element of spontaneity, but knowing your location shouldn&#8217;t be one of them.</p>\\n<p>Using <a href=\"http://www.lynda.com/Photography-Portraits-tutorials/Introducing-location/115859/127739-4.html\" target=\"_blank\" rel=\"noopener noreferrer\">this tutorial</a> gave me some great ideas on the best way to work with where the nuptials were going to take place and helped me to take the best photos without sweating the details.</p>\\n</div><footer class=\"entry-footer\"><p class=\"entry-meta\"><span class=\"entry-categories\">Filed Under: <a href=\"https://pixelford.com/category/tips-tricks/\" rel=\"category tag\">Tips &amp; Tricks</a></span> </p></footer></article><article class=\"post-19 post type-post status-publish format-standard has-post-thumbnail category-client-stories entry\" aria-label=\"Juliane and Hanz\" itemscope itemtype=\"https://schema.org/CreativeWork\"><header class=\"entry-header\"><h2 class=\"entry-title\" itemprop=\"headline\"><a class=\"entry-title-link\" rel=\"bookmark\" href=\"https://pixelford.com/juliane-hanz/\">Juliane and Hanz</a></h2>\\n<p class=\"entry-meta\"><time class=\"entry-time\" itemprop=\"datePublished\" datetime=\"2019-09-06T18:23:04+00:00\">September 6, 2019</time> By <span class=\"entry-author\" itemprop=\"author\" itemscope itemtype=\"https://schema.org/Person\"><a href=\"https://pixelford.com/author/assets/\" class=\"entry-author-link\" rel=\"author\" itemprop=\"url\"><span class=\"entry-author-name\" itemprop=\"name\">admin</span></a></span>  </p></header><div class=\"entry-content\" itemprop=\"text\"><figure id=\"attachment_426\" aria-describedby=\"caption-attachment-426\" style=\"width: 150px\" class=\"wp-caption alignright\"><a href=\"https://pixelford.com/wp-content/uploads/2015/01/Juliane-and-Hanz_453278947.jpg\"><img loading=\"lazy\" decoding=\"async\" class=\"wp-image-426 size-thumbnail\" src=\"https://pixelford.com/wp-content/uploads/2015/01/Juliane-and-Hanz_453278947-150x150.jpg\" alt=\"Juliane and Hanz\" width=\"150\" height=\"150\" srcset=\"https://pixelford.com/wp-content/uploads/2015/01/Juliane-and-Hanz_453278947-150x150.jpg 150w, https://pixelford.com/wp-content/uploads/2015/01/Juliane-and-Hanz_453278947-380x380.jpg 380w, https://pixelford.com/wp-content/uploads/2015/01/Juliane-and-Hanz_453278947-50x50.jpg 50w\" sizes=\"(max-width: 150px) 100vw, 150px\" /></a><figcaption id=\"caption-attachment-426\" class=\"wp-caption-text\">Juliane and Hanz</figcaption></figure>\\n<p>Juliane and Hanz met in Moscow, when Juliane was an exchange student, studying languages, and Hanz was enrolled in engineering school. Juliane returned home to Manhattan at the end of the program, and three years later, Hanz found work as a civil engineer in Brooklyn. They had lost contact while apart, and after a serendipitous reunion at a coffee shop in Brooklyn, it was apparent that destiny had played a hand in getting the two together. They were a couple within days, started living together the next month, and were engaged before the year was out. When it came time to plan their wedding, they knew it just had to be in Moscow, near the university plaza where they first met.</p>\\n<p>They contacted Simon, at the referral of a mutual friend who had used Pixelford Photography for a wedding in upstate New York, but assumed he\\xe2\\x80\\x99d recommend calling someone in Moscow.After meeting Simon, and seeing the large body of awe-inspiring wedding photography shot by the Pixelford Photography team, Juliane and Hanz were determined to hire Pixelford.</p>\\n<p>As luck would have it, Simon was shooting a commercial shoot in Europe later in the year, and after hearing the couple\\xe2\\x80\\x99s story, he was easily persuaded to book their wedding shoot. Juliane and Hanz couldn\\xe2\\x80\\x99t have been happier with the photos, shown here, and have called Simon their \\xe2\\x80\\x9cWhite Knight Behind the Camera Lens.\\xe2\\x80\\x9d</p>\\n<div id=\\'gallery-2\\' class=\\'gallery galleryid-19 gallery-columns-3 gallery-size-large\\'><figure class=\\'gallery-item\\'>\\n\\t\\t\\t<div class=\\'gallery-icon portrait\\'>\\n\\t\\t\\t\\t<a href=\\'https://pixelford.com/wp-content/uploads/2015/01/Juliane-and-Hanz_464793173.jpg\\'><img loading=\"lazy\" decoding=\"async\" width=\"667\" height=\"1000\" src=\"https://pixelford.com/wp-content/uploads/2015/01/Juliane-and-Hanz_464793173.jpg\" class=\"attachment-large size-large\" alt=\"Juliane and Hanz\" aria-describedby=\"gallery-2-427\" srcset=\"https://pixelford.com/wp-content/uploads/2015/01/Juliane-and-Hanz_464793173.jpg 667w, https://pixelford.com/wp-content/uploads/2015/01/Juliane-and-Hanz_464793173-200x300.jpg 200w\" sizes=\"(max-width: 667px) 100vw, 667px\" /></a>\\n\\t\\t\\t</div>\\n\\t\\t\\t\\t<figcaption class=\\'wp-caption-text gallery-caption\\' id=\\'gallery-2-427\\'>\\n\\t\\t\\t\\tJuliane and Hanz\\n\\t\\t\\t\\t</figcaption></figure><figure class=\\'gallery-item\\'>\\n\\t\\t\\t<div class=\\'gallery-icon landscape\\'>\\n\\t\\t\\t\\t<a href=\\'https://pixelford.com/wp-content/uploads/2015/01/Juliane-and-Hanz_470227343.jpg\\'><img loading=\"lazy\" decoding=\"async\" width=\"1000\" height=\"664\" src=\"https://pixelford.com/wp-content/uploads/2015/01/Juliane-and-Hanz_470227343.jpg\" class=\"attachment-large size-large\" alt=\"Juliane and Hanz\" aria-describedby=\"gallery-2-428\" srcset=\"https://pixelford.com/wp-content/uploads/2015/01/Juliane-and-Hanz_470227343.jpg 1000w, https://pixelford.com/wp-content/uploads/2015/01/Juliane-and-Hanz_470227343-300x199.jpg 300w\" sizes=\"(max-width: 1000px) 100vw, 1000px\" /></a>\\n\\t\\t\\t</div>\\n\\t\\t\\t\\t<figcaption class=\\'wp-caption-text gallery-caption\\' id=\\'gallery-2-428\\'>\\n\\t\\t\\t\\tJuliane and Hanz\\n\\t\\t\\t\\t</figcaption></figure><figure class=\\'gallery-item\\'>\\n\\t\\t\\t<div class=\\'gallery-icon landscape\\'>\\n\\t\\t\\t\\t<a href=\\'https://pixelford.com/wp-content/uploads/2015/01/Juliane-and-Hanz_452257589.jpg\\'><img loading=\"lazy\" decoding=\"async\" width=\"1000\" height=\"664\" src=\"https://pixelford.com/wp-content/uploads/2015/01/Juliane-and-Hanz_452257589.jpg\" class=\"attachment-large size-large\" alt=\"Juliane and Hanz\" aria-describedby=\"gallery-2-425\" srcset=\"https://pixelford.com/wp-content/uploads/2015/01/Juliane-and-Hanz_452257589.jpg 1000w, https://pixelford.com/wp-content/uploads/2015/01/Juliane-and-Hanz_452257589-300x199.jpg 300w\" sizes=\"(max-width: 1000px) 100vw, 1000px\" /></a>\\n\\t\\t\\t</div>\\n\\t\\t\\t\\t<figcaption class=\\'wp-caption-text gallery-caption\\' id=\\'gallery-2-425\\'>\\n\\t\\t\\t\\tJuliane and Hanz\\n\\t\\t\\t\\t</figcaption></figure><figure class=\\'gallery-item\\'>\\n\\t\\t\\t<div class=\\'gallery-icon landscape\\'>\\n\\t\\t\\t\\t<a href=\\'https://pixelford.com/wp-content/uploads/2015/01/Juliane-and-Hanz_168776032.jpg\\'><img loading=\"lazy\" decoding=\"async\" width=\"1000\" height=\"667\" src=\"https://pixelford.com/wp-content/uploads/2015/01/Juliane-and-Hanz_168776032.jpg\" class=\"attachment-large size-large\" alt=\"Juliane and Hanz\" aria-describedby=\"gallery-2-424\" srcset=\"https://pixelford.com/wp-content/uploads/2015/01/Juliane-and-Hanz_168776032.jpg 1000w, https://pixelford.com/wp-content/uploads/2015/01/Juliane-and-Hanz_168776032-300x200.jpg 300w\" sizes=\"(max-width: 1000px) 100vw, 1000px\" /></a>\\n\\t\\t\\t</div>\\n\\t\\t\\t\\t<figcaption class=\\'wp-caption-text gallery-caption\\' id=\\'gallery-2-424\\'>\\n\\t\\t\\t\\tJuliane and Hanz\\n\\t\\t\\t\\t</figcaption></figure>\\n\\t\\t</div>\\n\\n</div><footer class=\"entry-footer\"><p class=\"entry-meta\"><span class=\"entry-categories\">Filed Under: <a href=\"https://pixelford.com/category/client-stories/\" rel=\"category tag\">Client Stories</a></span> </p></footer></article><article class=\"post-16 post type-post status-publish format-standard has-post-thumbnail category-location-shooting-tips entry\" aria-label=\"The Authentic Charm of Coney Island\" itemscope itemtype=\"https://schema.org/CreativeWork\"><header class=\"entry-header\"><h2 class=\"entry-title\" itemprop=\"headline\"><a class=\"entry-title-link\" rel=\"bookmark\" href=\"https://pixelford.com/authentic-charm-coney-island/\">The Authentic Charm of Coney Island</a></h2>\\n<p class=\"entry-meta\"><time class=\"entry-time\" itemprop=\"datePublished\" datetime=\"2019-09-05T18:22:24+00:00\">September 5, 2019</time> By <span class=\"entry-author\" itemprop=\"author\" itemscope itemtype=\"https://schema.org/Person\"><a href=\"https://pixelford.com/author/assets/\" class=\"entry-author-link\" rel=\"author\" itemprop=\"url\"><span class=\"entry-author-name\" itemprop=\"name\">admin</span></a></span>  </p></header><div class=\"entry-content\" itemprop=\"text\"><p>Coney Island has it all. Rich textures, vibrant color, and interesting people dot the landscape of this famous boardwalk community in the Brooklyn borough of New York City. Every type of conceivable photography can be accomplished in this one location, from showcasing the serenity of nature in this sunset shot, to freezing the adventures of childhood in time, to capturing the eerie calm of the boardwalk after all it\\xe2\\x80\\x99s inhabitants have gone to bed.</p>\\n<div id=\\'gallery-3\\' class=\\'gallery galleryid-16 gallery-columns-3 gallery-size-thumbnail\\'><figure class=\\'gallery-item\\'>\\n\\t\\t\\t<div class=\\'gallery-icon landscape\\'>\\n\\t\\t\\t\\t<a href=\\'https://pixelford.com/wp-content/uploads/2015/01/boardwalk-at-night-CI_153151451.jpg\\'><img loading=\"lazy\" decoding=\"async\" width=\"150\" height=\"150\" src=\"https://pixelford.com/wp-content/uploads/2015/01/boardwalk-at-night-CI_153151451-150x150.jpg\" class=\"attachment-thumbnail size-thumbnail\" alt=\"Boardwalk at night\" aria-describedby=\"gallery-3-431\" srcset=\"https://pixelford.com/wp-content/uploads/2015/01/boardwalk-at-night-CI_153151451-150x150.jpg 150w, https://pixelford.com/wp-content/uploads/2015/01/boardwalk-at-night-CI_153151451-380x380.jpg 380w, https://pixelford.com/wp-content/uploads/2015/01/boardwalk-at-night-CI_153151451-50x50.jpg 50w\" sizes=\"(max-width: 150px) 100vw, 150px\" /></a>\\n\\t\\t\\t</div>\\n\\t\\t\\t\\t<figcaption class=\\'wp-caption-text gallery-caption\\' id=\\'gallery-3-431\\'>\\n\\t\\t\\t\\tBoardwalk at night\\n\\t\\t\\t\\t</figcaption></figure><figure class=\\'gallery-item\\'>\\n\\t\\t\\t<div class=\\'gallery-icon landscape\\'>\\n\\t\\t\\t\\t<a href=\\'https://pixelford.com/wp-content/uploads/2015/01/sunset-CI_488178505.jpg\\'><img loading=\"lazy\" decoding=\"async\" width=\"150\" height=\"150\" src=\"https://pixelford.com/wp-content/uploads/2015/01/sunset-CI_488178505-150x150.jpg\" class=\"attachment-thumbnail size-thumbnail\" alt=\"Sunset on the beach\" aria-describedby=\"gallery-3-437\" srcset=\"https://pixelford.com/wp-content/uploads/2015/01/sunset-CI_488178505-150x150.jpg 150w, https://pixelford.com/wp-content/uploads/2015/01/sunset-CI_488178505-380x380.jpg 380w, https://pixelford.com/wp-content/uploads/2015/01/sunset-CI_488178505-50x50.jpg 50w\" sizes=\"(max-width: 150px) 100vw, 150px\" /></a>\\n\\t\\t\\t</div>\\n\\t\\t\\t\\t<figcaption class=\\'wp-caption-text gallery-caption\\' id=\\'gallery-3-437\\'>\\n\\t\\t\\t\\tSunset on the beach\\n\\t\\t\\t\\t</figcaption></figure>\\n\\t\\t</div>\\n\\n<p>There\\xe2\\x80\\x99s also some of the best people watching around, such as the \\xe2\\x80\\x9cLollipop Girls\\xe2\\x80\\x9d enjoying the fun antics of youth, this couple falling in love over cotton candy, and locals devouring famous Coney Island hot dogs. And, just when you think you\\xe2\\x80\\x99d seen everything that Coney Island has to offer, you stumble upon a fairytale mermaid on the beach\\xe2\\x80\\xa6or did you? Certainly your photos would never tell a lie.</p>\\n<div id=\\'gallery-4\\' class=\\'gallery galleryid-16 gallery-columns-3 gallery-size-medium\\'><figure class=\\'gallery-item\\'>\\n\\t\\t\\t<div class=\\'gallery-icon landscape\\'>\\n\\t\\t\\t\\t<a href=\\'https://pixelford.com/wp-content/uploads/2015/01/lollipop-girls-CI_512549311.jpg\\'><img loading=\"lazy\" decoding=\"async\" width=\"300\" height=\"200\" src=\"https://pixelford.com/wp-content/uploads/2015/01/lollipop-girls-CI_512549311-300x200.jpg\" class=\"attachment-medium size-medium\" alt=\"Lollipop girls\" aria-describedby=\"gallery-4-435\" srcset=\"https://pixelford.com/wp-content/uploads/2015/01/lollipop-girls-CI_512549311-300x200.jpg 300w, https://pixelford.com/wp-content/uploads/2015/01/lollipop-girls-CI_512549311.jpg 1000w\" sizes=\"(max-width: 300px) 100vw, 300px\" /></a>\\n\\t\\t\\t</div>\\n\\t\\t\\t\\t<figcaption class=\\'wp-caption-text gallery-caption\\' id=\\'gallery-4-435\\'>\\n\\t\\t\\t\\tLollipop girls\\n\\t\\t\\t\\t</figcaption></figure><figure class=\\'gallery-item\\'>\\n\\t\\t\\t<div class=\\'gallery-icon landscape\\'>\\n\\t\\t\\t\\t<a href=\\'https://pixelford.com/wp-content/uploads/2015/01/kids-CI_140270424.jpg\\'><img loading=\"lazy\" decoding=\"async\" width=\"300\" height=\"200\" src=\"https://pixelford.com/wp-content/uploads/2015/01/kids-CI_140270424-300x200.jpg\" class=\"attachment-medium size-medium\" alt=\"Kids at the beach\" aria-describedby=\"gallery-4-434\" srcset=\"https://pixelford.com/wp-content/uploads/2015/01/kids-CI_140270424-300x200.jpg 300w, https://pixelford.com/wp-content/uploads/2015/01/kids-CI_140270424.jpg 1000w\" sizes=\"(max-width: 300px) 100vw, 300px\" /></a>\\n\\t\\t\\t</div>\\n\\t\\t\\t\\t<figcaption class=\\'wp-caption-text gallery-caption\\' id=\\'gallery-4-434\\'>\\n\\t\\t\\t\\tKids at the beach\\n\\t\\t\\t\\t</figcaption></figure><figure class=\\'gallery-item\\'>\\n\\t\\t\\t<div class=\\'gallery-icon landscape\\'>\\n\\t\\t\\t\\t<a href=\\'https://pixelford.com/wp-content/uploads/2015/01/mermaid-CI_116026444.jpg\\'><img loading=\"lazy\" decoding=\"async\" width=\"300\" height=\"200\" src=\"https://pixelford.com/wp-content/uploads/2015/01/mermaid-CI_116026444-300x200.jpg\" class=\"attachment-medium size-medium\" alt=\"Mermaid on the beach\" aria-describedby=\"gallery-4-436\" srcset=\"https://pixelford.com/wp-content/uploads/2015/01/mermaid-CI_116026444-300x200.jpg 300w, https://pixelford.com/wp-content/uploads/2015/01/mermaid-CI_116026444.jpg 1000w\" sizes=\"(max-width: 300px) 100vw, 300px\" /></a>\\n\\t\\t\\t</div>\\n\\t\\t\\t\\t<figcaption class=\\'wp-caption-text gallery-caption\\' id=\\'gallery-4-436\\'>\\n\\t\\t\\t\\tMermaid on the beach\\n\\t\\t\\t\\t</figcaption></figure><figure class=\\'gallery-item\\'>\\n\\t\\t\\t<div class=\\'gallery-icon landscape\\'>\\n\\t\\t\\t\\t<a href=\\'https://pixelford.com/wp-content/uploads/2015/01/double-dog-CI_78057900.jpg\\'><img loading=\"lazy\" decoding=\"async\" width=\"300\" height=\"199\" src=\"https://pixelford.com/wp-content/uploads/2015/01/double-dog-CI_78057900-300x199.jpg\" class=\"attachment-medium size-medium\" alt=\"A double dog!\" aria-describedby=\"gallery-4-433\" srcset=\"https://pixelford.com/wp-content/uploads/2015/01/double-dog-CI_78057900-300x199.jpg 300w, https://pixelford.com/wp-content/uploads/2015/01/double-dog-CI_78057900.jpg 1000w\" sizes=\"(max-width: 300px) 100vw, 300px\" /></a>\\n\\t\\t\\t</div>\\n\\t\\t\\t\\t<figcaption class=\\'wp-caption-text gallery-caption\\' id=\\'gallery-4-433\\'>\\n\\t\\t\\t\\tA double dog!\\n\\t\\t\\t\\t</figcaption></figure><figure class=\\'gallery-item\\'>\\n\\t\\t\\t<div class=\\'gallery-icon landscape\\'>\\n\\t\\t\\t\\t<a href=\\'https://pixelford.com/wp-content/uploads/2015/01/cotton-candy-CI_78057895.jpg\\'><img loading=\"lazy\" decoding=\"async\" width=\"300\" height=\"199\" src=\"https://pixelford.com/wp-content/uploads/2015/01/cotton-candy-CI_78057895-300x199.jpg\" class=\"attachment-medium size-medium\" alt=\"Cotton candy couple\" aria-describedby=\"gallery-4-432\" srcset=\"https://pixelford.com/wp-content/uploads/2015/01/cotton-candy-CI_78057895-300x199.jpg 300w, https://pixelford.com/wp-content/uploads/2015/01/cotton-candy-CI_78057895.jpg 1000w\" sizes=\"(max-width: 300px) 100vw, 300px\" /></a>\\n\\t\\t\\t</div>\\n\\t\\t\\t\\t<figcaption class=\\'wp-caption-text gallery-caption\\' id=\\'gallery-4-432\\'>\\n\\t\\t\\t\\tCotton candy couple\\n\\t\\t\\t\\t</figcaption></figure>\\n\\t\\t</div>\\n\\n</div><footer class=\"entry-footer\"><p class=\"entry-meta\"><span class=\"entry-categories\">Filed Under: <a href=\"https://pixelford.com/category/location-shooting-tips/\" rel=\"category tag\">Location Shooting Tips</a></span> </p></footer></article><article class=\"post-12 post type-post status-publish format-standard has-post-thumbnail category-location-shooting-tips entry\" aria-label=\"Central Park \\xe2\\x80\\x93 Nature and Beauty in the Heart of the City\" itemscope itemtype=\"https://schema.org/CreativeWork\"><header class=\"entry-header\"><h2 class=\"entry-title\" itemprop=\"headline\"><a class=\"entry-title-link\" rel=\"bookmark\" href=\"https://pixelford.com/central-park-nature-beauty-heart-city/\">Central Park \\xe2\\x80\\x93 Nature and Beauty in the Heart of the City</a></h2>\\n<p class=\"entry-meta\"><time class=\"entry-time\" itemprop=\"datePublished\" datetime=\"2019-09-03T18:20:43+00:00\">September 3, 2019</time> By <span class=\"entry-author\" itemprop=\"author\" itemscope itemtype=\"https://schema.org/Person\"><a href=\"https://pixelford.com/author/assets/\" class=\"entry-author-link\" rel=\"author\" itemprop=\"url\"><span class=\"entry-author-name\" itemprop=\"name\">admin</span></a></span>  </p></header><div class=\"entry-content\" itemprop=\"text\"><p>It probably doesn\\xe2\\x80\\x99t come as news to you that Central Park is the best place in New York City for photography shoots that require a nature vibe. What might come as a surprise, however, is the vast number of locations within Central Park that can serve as varied and inspiring backdrops. With a host of scenic bridges, serene pathways, statuesque trees, rocky waterfalls, autumn colors, spring flowers, and more, Central Park is a photographer\\xe2\\x80\\x99s dream.</p>\\n<h2>Here\\xe2\\x80\\x99s just a few:</h2>\\n<p><strong>Bow Bridge:</strong> You\\xe2\\x80\\x99ve, no doubt, seen the Bow Bridge in countless numbers of photographs, but, like most of Central Park, it always manages to look significantly different, depending on the angle and the season.</p>\\n<p><strong>Gapstow Bridge:</strong> The stone-flanked Gapstow Bridge is straight out of a storybook, and is a decisively lovely place for wedding portraits.</p>\\n<p><strong>The Ramble:</strong> Waterfalls, streams, and birds, amongst a tangle of moss and branches, gives The Ramble its rugged character, and is also the reason why this is such a picture-perfect location.</p>\\n<p><strong>Literary Walk:</strong> On the southern end of the Mall, a quadruple row of stately American Elms, is Literary Walk and its statues of poets long gone. You can almost hear the poets whisper \\xe2\\x80\\x9cwhat a great spot for photos!\\xe2\\x80\\x9d</p>\\n<p><strong>Turtle Pond: </strong>Who can resist a fun game of spotting the five species of turtles in Turtle Pond? But then step back and see (or, in this case, shoot) the big picture \\xe2\\x80\\x93 a beautiful pond surrounded by colorful aquatic plants and tall trees.</p>\\n<p><strong>Skyline:</strong> If the urbanite in you is still craving a glimpse of the city, the skyline is never far from view. Whether framed by trees ablaze with fall color, dotted with spring flowers, or nestled under a blanket of snow, it\\xe2\\x80\\x99s the perfect canopy for \\xe2\\x80\\x9cpainting\\xe2\\x80\\x9d your picture.</p>\\n<div id=\\'gallery-5\\' class=\\'gallery galleryid-12 gallery-columns-3 gallery-size-medium\\'><figure class=\\'gallery-item\\'>\\n\\t\\t\\t<div class=\\'gallery-icon landscape\\'>\\n\\t\\t\\t\\t<a href=\\'https://pixelford.com/wp-content/uploads/2015/01/Turtle-Pond_Central-Park_177736231.jpg\\'><img loading=\"lazy\" decoding=\"async\" width=\"300\" height=\"187\" src=\"https://pixelford.com/wp-content/uploads/2015/01/Turtle-Pond_Central-Park_177736231-300x187.jpg\" class=\"attachment-medium size-medium\" alt=\"Turtle Pond Central Park\" aria-describedby=\"gallery-5-454\" srcset=\"https://pixelford.com/wp-content/uploads/2015/01/Turtle-Pond_Central-Park_177736231-300x187.jpg 300w, https://pixelford.com/wp-content/uploads/2015/01/Turtle-Pond_Central-Park_177736231.jpg 1000w\" sizes=\"(max-width: 300px) 100vw, 300px\" /></a>\\n\\t\\t\\t</div>\\n\\t\\t\\t\\t<figcaption class=\\'wp-caption-text gallery-caption\\' id=\\'gallery-5-454\\'>\\n\\t\\t\\t\\tTurtle Pond Central Park\\n\\t\\t\\t\\t</figcaption></figure><figure class=\\'gallery-item\\'>\\n\\t\\t\\t<div class=\\'gallery-icon landscape\\'>\\n\\t\\t\\t\\t<a href=\\'https://pixelford.com/wp-content/uploads/2015/01/Skyline_Central-Park_524687673.jpg\\'><img loading=\"lazy\" decoding=\"async\" width=\"300\" height=\"199\" src=\"https://pixelford.com/wp-content/uploads/2015/01/Skyline_Central-Park_524687673-300x199.jpg\" class=\"attachment-medium size-medium\" alt=\"Skyline Central Park\" srcset=\"https://pixelford.com/wp-content/uploads/2015/01/Skyline_Central-Park_524687673-300x199.jpg 300w, https://pixelford.com/wp-content/uploads/2015/01/Skyline_Central-Park_524687673.jpg 1000w\" sizes=\"(max-width: 300px) 100vw, 300px\" /></a>\\n\\t\\t\\t</div></figure><figure class=\\'gallery-item\\'>\\n\\t\\t\\t<div class=\\'gallery-icon landscape\\'>\\n\\t\\t\\t\\t<a href=\\'https://pixelford.com/wp-content/uploads/2015/01/Bow-Bridge_Central-Park_528728793.jpg\\'><img loading=\"lazy\" decoding=\"async\" width=\"300\" height=\"181\" src=\"https://pixelford.com/wp-content/uploads/2015/01/Bow-Bridge_Central-Park_528728793-300x181.jpg\" class=\"attachment-medium size-medium\" alt=\"Bow Bridge Central Park\" aria-describedby=\"gallery-5-450\" srcset=\"https://pixelford.com/wp-content/uploads/2015/01/Bow-Bridge_Central-Park_528728793-300x181.jpg 300w, https://pixelford.com/wp-content/uploads/2015/01/Bow-Bridge_Central-Park_528728793.jpg 1000w\" sizes=\"(max-width: 300px) 100vw, 300px\" /></a>\\n\\t\\t\\t</div>\\n\\t\\t\\t\\t<figcaption class=\\'wp-caption-text gallery-caption\\' id=\\'gallery-5-450\\'>\\n\\t\\t\\t\\tBow Bridge Central Park\\n\\t\\t\\t\\t</figcaption></figure><figure class=\\'gallery-item\\'>\\n\\t\\t\\t<div class=\\'gallery-icon portrait\\'>\\n\\t\\t\\t\\t<a href=\\'https://pixelford.com/wp-content/uploads/2015/01/Waterfall_Central-Park_513227191.jpg\\'><img loading=\"lazy\" decoding=\"async\" width=\"226\" height=\"300\" src=\"https://pixelford.com/wp-content/uploads/2015/01/Waterfall_Central-Park_513227191-226x300.jpg\" class=\"attachment-medium size-medium\" alt=\"Waterfall Central Park\" aria-describedby=\"gallery-5-455\" srcset=\"https://pixelford.com/wp-content/uploads/2015/01/Waterfall_Central-Park_513227191-226x300.jpg 226w, https://pixelford.com/wp-content/uploads/2015/01/Waterfall_Central-Park_513227191.jpg 754w\" sizes=\"(max-width: 226px) 100vw, 226px\" /></a>\\n\\t\\t\\t</div>\\n\\t\\t\\t\\t<figcaption class=\\'wp-caption-text gallery-caption\\' id=\\'gallery-5-455\\'>\\n\\t\\t\\t\\tWaterfall Central Park\\n\\t\\t\\t\\t</figcaption></figure><figure class=\\'gallery-item\\'>\\n\\t\\t\\t<div class=\\'gallery-icon landscape\\'>\\n\\t\\t\\t\\t<a href=\\'https://pixelford.com/wp-content/uploads/2015/01/Literary-Walk_Central-Park_181629496-e1422817963376.jpg\\'><img loading=\"lazy\" decoding=\"async\" width=\"300\" height=\"195\" src=\"https://pixelford.com/wp-content/uploads/2015/01/Literary-Walk_Central-Park_181629496-e1422817963376-300x195.jpg\" class=\"attachment-medium size-medium\" alt=\"Literary Walk Central Park\" aria-describedby=\"gallery-5-459\" srcset=\"https://pixelford.com/wp-content/uploads/2015/01/Literary-Walk_Central-Park_181629496-e1422817963376-300x195.jpg 300w, https://pixelford.com/wp-content/uploads/2015/01/Literary-Walk_Central-Park_181629496-e1422817963376.jpg 900w\" sizes=\"(max-width: 300px) 100vw, 300px\" /></a>\\n\\t\\t\\t</div>\\n\\t\\t\\t\\t<figcaption class=\\'wp-caption-text gallery-caption\\' id=\\'gallery-5-459\\'>\\n\\t\\t\\t\\tLiterary Walk Central Park\\n\\t\\t\\t\\t</figcaption></figure><figure class=\\'gallery-item\\'>\\n\\t\\t\\t<div class=\\'gallery-icon landscape\\'>\\n\\t\\t\\t\\t<a href=\\'https://pixelford.com/wp-content/uploads/2015/01/Gapstow-Bridge_Central-Park_526325953.jpg\\'><img loading=\"lazy\" decoding=\"async\" width=\"300\" height=\"171\" src=\"https://pixelford.com/wp-content/uploads/2015/01/Gapstow-Bridge_Central-Park_526325953-300x171.jpg\" class=\"attachment-medium size-medium\" alt=\"Gapstow Bridge Central Park\" aria-describedby=\"gallery-5-451\" srcset=\"https://pixelford.com/wp-content/uploads/2015/01/Gapstow-Bridge_Central-Park_526325953-300x171.jpg 300w, https://pixelford.com/wp-content/uploads/2015/01/Gapstow-Bridge_Central-Park_526325953.jpg 1000w\" sizes=\"(max-width: 300px) 100vw, 300px\" /></a>\\n\\t\\t\\t</div>\\n\\t\\t\\t\\t<figcaption class=\\'wp-caption-text gallery-caption\\' id=\\'gallery-5-451\\'>\\n\\t\\t\\t\\tGapstow Bridge Central Park\\n\\t\\t\\t\\t</figcaption></figure>\\n\\t\\t</div>\\n\\n</div><footer class=\"entry-footer\"><p class=\"entry-meta\"><span class=\"entry-categories\">Filed Under: <a href=\"https://pixelford.com/category/location-shooting-tips/\" rel=\"category tag\">Location Shooting Tips</a></span> </p></footer></article><article class=\"post-10 post type-post status-publish format-standard has-post-thumbnail category-client-stories category-location-shooting-tips entry\" aria-label=\"Consider Rooftops for Portrait and Fashion Shoots\" itemscope itemtype=\"https://schema.org/CreativeWork\"><header class=\"entry-header\"><h2 class=\"entry-title\" itemprop=\"headline\"><a class=\"entry-title-link\" rel=\"bookmark\" href=\"https://pixelford.com/consider-rooftops-portrait-fashion-shoots/\">Consider Rooftops for Portrait and Fashion Shoots</a></h2>\\n<p class=\"entry-meta\"><time class=\"entry-time\" itemprop=\"datePublished\" datetime=\"2019-09-02T12:05:12+00:00\">September 2, 2019</time> By <span class=\"entry-author\" itemprop=\"author\" itemscope itemtype=\"https://schema.org/Person\"><a href=\"https://pixelford.com/author/assets/\" class=\"entry-author-link\" rel=\"author\" itemprop=\"url\"><span class=\"entry-author-name\" itemprop=\"name\">admin</span></a></span>  </p></header><div class=\"entry-content\" itemprop=\"text\"><p>Ironically, in New York City, a hub of picturesque and vibrant photo settings, it can be very difficult to find a location for a portrait photography shoot. And if you\\xe2\\x80\\x99re planning a fashion shoot, with multiple clothing changes, a makeup artist and hair stylist, and a bit more hoopla, that problem can be compounded. There are various reasons for this. Depending on where you\\xe2\\x80\\x99re shooting, you may need a film permit. If you plan to \\xe2\\x80\\x9cassert exclusive use of City property\\xe2\\x80\\x9d and/or you\\xe2\\x80\\x99re using equipment or vehicles, instead of just handheld cameras and tripods, you\\xe2\\x80\\x99ll need to apply for a $300 film permit and have insurance. Also, in busy areas, you run the risk of individual and groups of photo \\xe2\\x80\\x9cbombers\\xe2\\x80\\x9d destroying your perfectly planned shot. And, if your subject is going to change clothing, or you\\xe2\\x80\\x99re shooting for a couple hours, you\\xe2\\x80\\x99ll need access to a bathroom.</p>\\n<p>But who says you need to be in the thick of things to get a great shot? In fact, in most cases, being away from the flow of activity, while having the picturesque scene is the desired, but not possible, option. Not possible? Think again! If you\\xe2\\x80\\x99re fortunate enough to have access, rooftop shooting is a great option. Not only can you frame your subject against multiple interesting backgrounds, but also there\\xe2\\x80\\x99s lots of light, relative privacy, and usually discrete areas, such as the stairwell or opposite side of the roof, for clothing changes. And, if you know someone who lives in the building, or there is public restroom, you\\xe2\\x80\\x99ve got bathroom breaks covered, too. If you choose this option, do remember to be safe and stay away from the building edges. And, always remember to be courteous to others who are enjoying the rooftop view. Good luck, and happy shooting!</p>\\n<div id=\\'gallery-6\\' class=\\'gallery galleryid-10 gallery-columns-3 gallery-size-medium\\'><figure class=\\'gallery-item\\'>\\n\\t\\t\\t<div class=\\'gallery-icon portrait\\'>\\n\\t\\t\\t\\t<a href=\\'https://pixelford.com/wp-content/uploads/2015/01/model-on-NYC-rooftop_179230879.jpg\\'><img loading=\"lazy\" decoding=\"async\" width=\"200\" height=\"300\" src=\"https://pixelford.com/wp-content/uploads/2015/01/model-on-NYC-rooftop_179230879-200x300.jpg\" class=\"attachment-medium size-medium\" alt=\"Model on NYC rooftop\" aria-describedby=\"gallery-6-461\" srcset=\"https://pixelford.com/wp-content/uploads/2015/01/model-on-NYC-rooftop_179230879-200x300.jpg 200w, https://pixelford.com/wp-content/uploads/2015/01/model-on-NYC-rooftop_179230879.jpg 665w\" sizes=\"(max-width: 200px) 100vw, 200px\" /></a>\\n\\t\\t\\t</div>\\n\\t\\t\\t\\t<figcaption class=\\'wp-caption-text gallery-caption\\' id=\\'gallery-6-461\\'>\\n\\t\\t\\t\\tModel on NYC rooftop\\n\\t\\t\\t\\t</figcaption></figure><figure class=\\'gallery-item\\'>\\n\\t\\t\\t<div class=\\'gallery-icon landscape\\'>\\n\\t\\t\\t\\t<a href=\\'https://pixelford.com/wp-content/uploads/2015/01/model-on-NYC-rooftop_516040979.jpg\\'><img loading=\"lazy\" decoding=\"async\" width=\"300\" height=\"177\" src=\"https://pixelford.com/wp-content/uploads/2015/01/model-on-NYC-rooftop_516040979-300x177.jpg\" class=\"attachment-medium size-medium\" alt=\"Model on NYC rooftop\" aria-describedby=\"gallery-6-464\" srcset=\"https://pixelford.com/wp-content/uploads/2015/01/model-on-NYC-rooftop_516040979-300x177.jpg 300w, https://pixelford.com/wp-content/uploads/2015/01/model-on-NYC-rooftop_516040979.jpg 1000w\" sizes=\"(max-width: 300px) 100vw, 300px\" /></a>\\n\\t\\t\\t</div>\\n\\t\\t\\t\\t<figcaption class=\\'wp-caption-text gallery-caption\\' id=\\'gallery-6-464\\'>\\n\\t\\t\\t\\tModel on NYC rooftop\\n\\t\\t\\t\\t</figcaption></figure><figure class=\\'gallery-item\\'>\\n\\t\\t\\t<div class=\\'gallery-icon landscape\\'>\\n\\t\\t\\t\\t<a href=\\'https://pixelford.com/wp-content/uploads/2015/01/model-on-NYC-rooftop_515812723.jpg\\'><img loading=\"lazy\" decoding=\"async\" width=\"300\" height=\"200\" src=\"https://pixelford.com/wp-content/uploads/2015/01/model-on-NYC-rooftop_515812723-300x200.jpg\" class=\"attachment-medium size-medium\" alt=\"Model on NYC rooftop\" aria-describedby=\"gallery-6-463\" srcset=\"https://pixelford.com/wp-content/uploads/2015/01/model-on-NYC-rooftop_515812723-300x200.jpg 300w, https://pixelford.com/wp-content/uploads/2015/01/model-on-NYC-rooftop_515812723.jpg 1000w\" sizes=\"(max-width: 300px) 100vw, 300px\" /></a>\\n\\t\\t\\t</div>\\n\\t\\t\\t\\t<figcaption class=\\'wp-caption-text gallery-caption\\' id=\\'gallery-6-463\\'>\\n\\t\\t\\t\\tModel on NYC rooftop\\n\\t\\t\\t\\t</figcaption></figure><figure class=\\'gallery-item\\'>\\n\\t\\t\\t<div class=\\'gallery-icon landscape\\'>\\n\\t\\t\\t\\t<a href=\\'https://pixelford.com/wp-content/uploads/2015/01/model-on-NYC-rooftop_179278836.jpg\\'><img loading=\"lazy\" decoding=\"async\" width=\"300\" height=\"200\" src=\"https://pixelford.com/wp-content/uploads/2015/01/model-on-NYC-rooftop_179278836-300x200.jpg\" class=\"attachment-medium size-medium\" alt=\"Model on NYC rooftop\" aria-describedby=\"gallery-6-462\" srcset=\"https://pixelford.com/wp-content/uploads/2015/01/model-on-NYC-rooftop_179278836-300x200.jpg 300w, https://pixelford.com/wp-content/uploads/2015/01/model-on-NYC-rooftop_179278836.jpg 1000w\" sizes=\"(max-width: 300px) 100vw, 300px\" /></a>\\n\\t\\t\\t</div>\\n\\t\\t\\t\\t<figcaption class=\\'wp-caption-text gallery-caption\\' id=\\'gallery-6-462\\'>\\n\\t\\t\\t\\tModel on NYC rooftop\\n\\t\\t\\t\\t</figcaption></figure>\\n\\t\\t</div>\\n\\n</div><footer class=\"entry-footer\"><p class=\"entry-meta\"><span class=\"entry-categories\">Filed Under: <a href=\"https://pixelford.com/category/client-stories/\" rel=\"category tag\">Client Stories</a>, <a href=\"https://pixelford.com/category/location-shooting-tips/\" rel=\"category tag\">Location Shooting Tips</a></span> </p></footer></article></main></div></div><div class=\"footer-widgets\"><div class=\"wrap\"><div class=\"widget-area footer-widgets-1 footer-widget-area\"><section id=\"text-4\" class=\"widget widget_text\"><div class=\"widget-wrap\"><h4 class=\"widget-title widgettitle\">Let&#8217;s Start Working Together</h4>\\n\\t\\t\\t<div class=\"textwidget\"><p>Are you ready to get started on your project?<br />\\n<a href=\"https://pixelford.com/contact\">Contact us today</a> and speak with our photographers!</p>\\n</div>\\n\\t\\t</div></section>\\n</div><div class=\"widget-area footer-widgets-2 footer-widget-area\"><section id=\"text-3\" class=\"widget widget_text\"><div class=\"widget-wrap\"><h4 class=\"widget-title widgettitle\">Pixelford Photography</h4>\\n\\t\\t\\t<div class=\"textwidget\"><p>2120 East 6th Street<br />\\nEast Village, New York NY 10003</p>\\n</div>\\n\\t\\t</div></section>\\n</div><div class=\"widget-area footer-widgets-3 footer-widget-area\"><section id=\"search-3\" class=\"widget widget_search\"><div class=\"widget-wrap\"><h4 class=\"widget-title widgettitle\">Search this site</h4>\\n<form class=\"search-form\" method=\"get\" action=\"https://pixelford.com/\" role=\"search\" itemprop=\"potentialAction\" itemscope itemtype=\"https://schema.org/SearchAction\"><input class=\"search-form-input\" type=\"search\" name=\"s\" id=\"searchform-1\" placeholder=\"Search this website\" itemprop=\"query-input\"><input class=\"search-form-submit\" type=\"submit\" value=\"Search\"><meta content=\"https://pixelford.com/?s={s}\" itemprop=\"target\"></form></div></section>\\n</div></div></div><footer class=\"site-footer\" itemscope itemtype=\"https://schema.org/WPFooter\"><div class=\"wrap\"><nav class=\"nav-secondary\" aria-label=\"Secondary\" itemscope itemtype=\"https://schema.org/SiteNavigationElement\"><div class=\"wrap\"><ul id=\"menu-social-links\" class=\"menu genesis-nav-menu menu-secondary\"><li id=\"menu-item-516\" class=\"menu-item menu-item-type-custom menu-item-object-custom menu-item-516\"><a href=\"http://instagram.com/pixelford/\" itemprop=\"url\"><span itemprop=\"name\">Instagram</span></a></li>\\n<li id=\"menu-item-517\" class=\"menu-item menu-item-type-custom menu-item-object-custom menu-item-517\"><a href=\"https://twitter.com/pixelford\" itemprop=\"url\"><span itemprop=\"name\">Twitter</span></a></li>\\n<li id=\"menu-item-518\" class=\"menu-item menu-item-type-custom menu-item-object-custom menu-item-518\"><a href=\"https://www.facebook.com/pixelford\" itemprop=\"url\"><span itemprop=\"name\">Facebook</span></a></li>\\n<li id=\"menu-item-515\" class=\"menu-item menu-item-type-custom menu-item-object-custom menu-item-515\"><a href=\"http://www.linkedin.com/in/pixelford\" itemprop=\"url\"><span itemprop=\"name\">LinkedIn</span></a></li>\\n</ul></div></nav>***This is a fictitious company created by LinkedIn Corporation, or its affiliates, solely for the creation and development of educational training materials. Any resemblance to real products or services is purely coincidental. Information provided about the products or services is also fictitious and should not be construed as representative of  actual products or services on the market in a similar product or service category.***</div></footer></div><script type=\"text/javascript\" src=\"https://pixelford.com/wp-content/plugins/final-tiles-grid-gallery-lite/scripts/jquery.finalTilesGallery.js?ver=3.5.8\" id=\"finalTilesGallery-js\"></script>\\n<script type=\"text/javascript\" src=\"https://pixelford.com/wp-content/plugins/contact-form-7/includes/swv/js/index.js?ver=5.9.3\" id=\"swv-js\"></script>\\n<script type=\"text/javascript\" id=\"contact-form-7-js-extra\">\\n/* <![CDATA[ */\\nvar wpcf7 = {\"api\":{\"root\":\"https:\\\\/\\\\/pixelford.com\\\\/wp-json\\\\/\",\"namespace\":\"contact-form-7\\\\/v1\"}};\\n/* ]]> */\\n</script>\\n<script type=\"text/javascript\" src=\"https://pixelford.com/wp-content/plugins/contact-form-7/includes/js/index.js?ver=5.9.3\" id=\"contact-form-7-js\"></script>\\n<script type=\"text/javascript\" src=\"https://pixelford.com/wp-content/plugins/easy-fancybox/fancybox/1.5.4/jquery.fancybox.min.js?ver=6.5\" id=\"jquery-fancybox-js\"></script>\\n<script type=\"text/javascript\" id=\"jquery-fancybox-js-after\">\\n/* <![CDATA[ */\\nvar fb_timeout, fb_opts={\\'autoScale\\':true,\\'showCloseButton\\':true,\\'margin\\':20,\\'centerOnScroll\\':true,\\'enableEscapeButton\\':true,\\'overlayShow\\':true,\\'hideOnOverlayClick\\':true,\\'minViewportWidth\\':320,\\'minVpHeight\\':320 };\\nif(typeof easy_fancybox_handler===\\'undefined\\'){\\nvar easy_fancybox_handler=function(){\\njQuery([\".nolightbox\",\"a.wp-block-file__button\",\"a.pin-it-button\",\"a[href*=\\'pinterest.com\\\\/pin\\\\/create\\']\",\"a[href*=\\'facebook.com\\\\/share\\']\",\"a[href*=\\'twitter.com\\\\/share\\']\"].join(\\',\\')).addClass(\\'nofancybox\\');\\njQuery(\\'a.fancybox-close\\').on(\\'click\\',function(e){e.preventDefault();jQuery.fancybox.close()});\\n/* IMG */\\nvar fb_IMG_select=jQuery(\\'a[href*=\".jpg\" i]:not(.nofancybox,li.nofancybox>a),area[href*=\".jpg\" i]:not(.nofancybox),a[href*=\".jpeg\" i]:not(.nofancybox,li.nofancybox>a),area[href*=\".jpeg\" i]:not(.nofancybox),a[href*=\".png\" i]:not(.nofancybox,li.nofancybox>a),area[href*=\".png\" i]:not(.nofancybox)\\');\\nfb_IMG_select.addClass(\\'fancybox image\\');\\nvar fb_IMG_sections=jQuery(\\'.gallery,.wp-block-gallery,.tiled-gallery,.wp-block-jetpack-tiled-gallery\\');\\nfb_IMG_sections.each(function(){jQuery(this).find(fb_IMG_select).attr(\\'rel\\',\\'gallery-\\'+fb_IMG_sections.index(this));});\\njQuery(\\'a.fancybox,area.fancybox,.fancybox>a\\').each(function(){jQuery(this).fancybox(jQuery.extend(true,{},fb_opts,{\\'transitionIn\\':\\'elastic\\',\\'easingIn\\':\\'easeOutBack\\',\\'transitionOut\\':\\'elastic\\',\\'easingOut\\':\\'easeInBack\\',\\'opacity\\':false,\\'hideOnContentClick\\':false,\\'titleShow\\':true,\\'titlePosition\\':\\'over\\',\\'titleFromAlt\\':true,\\'showNavArrows\\':true,\\'enableKeyboardNav\\':true,\\'cyclic\\':false,\\'mouseWheel\\':\\'true\\'}))});\\n};};\\nvar easy_fancybox_auto=function(){setTimeout(function(){jQuery(\\'a#fancybox-auto,#fancybox-auto>a\\').first().trigger(\\'click\\')},1000);};\\njQuery(easy_fancybox_handler);jQuery(document).on(\\'post-load\\',easy_fancybox_handler);\\njQuery(easy_fancybox_auto);\\n/* ]]> */\\n</script>\\n<script type=\"text/javascript\" src=\"https://pixelford.com/wp-content/plugins/easy-fancybox/vendor/jquery.easing.min.js?ver=1.4.1\" id=\"jquery-easing-js\"></script>\\n<script type=\"text/javascript\" src=\"https://pixelford.com/wp-content/plugins/easy-fancybox/vendor/jquery.mousewheel.min.js?ver=3.1.13\" id=\"jquery-mousewheel-js\"></script>\\n</body></html>\\n'\n"
     ]
    }
   ],
   "source": [
    "import requests\n",
    "\n",
    "url = \"https://pixelford.com/blog/\"\n",
    "import random\n",
    "random_number = random.randint(1,999999999999)\n",
    "response = requests.get(url, headers = {'user-agent': f'{random_number}'})\n",
    "print(response.content)"
   ]
  },
  {
   "cell_type": "code",
   "execution_count": 13,
   "metadata": {},
   "outputs": [
    {
     "name": "stdout",
     "output_type": "stream",
     "text": [
      "['Jake Neopolt, “Fire in the Sky” album cover', 'Brooklyn Bridge – One Bridge, So Many Options', 'Get Rid of Photo Bombers', 'Bridal Gown: Capturing the Details of the Dress', 'Shooting a Wedding', 'Juliane and Hanz', 'The Authentic Charm of Coney Island', 'Central Park – Nature and Beauty in the Heart of the City', 'Consider Rooftops for Portrait and Fashion Shoots']\n",
      "Sep 18 2023 - Jake Neopolt, “Fire in the Sky” album cover\n",
      "Sep 04 2023 - Brooklyn Bridge – One Bridge, So Many Options\n",
      "Sep 13 2019 - Get Rid of Photo Bombers\n",
      "Sep 11 2019 - Bridal Gown: Capturing the Details of the Dress\n",
      "Sep 10 2019 - Shooting a Wedding\n",
      "Sep 06 2019 - Juliane and Hanz\n",
      "Sep 05 2019 - The Authentic Charm of Coney Island\n",
      "Sep 03 2019 - Central Park – Nature and Beauty in the Heart of the City\n",
      "Sep 02 2019 - Consider Rooftops for Portrait and Fashion Shoots\n"
     ]
    }
   ],
   "source": [
    "import requests\n",
    "from bs4 import BeautifulSoup\n",
    "import datetime\n",
    "\n",
    "url = \"https://pixelford.com/blog/\"\n",
    "import random\n",
    "random_number = random.randint(1,999999999999)\n",
    "response = requests.get(url, headers = {'user-agent': f'{random_number}'})\n",
    "html = response.content\n",
    "soup = BeautifulSoup(html, 'html.parser')\n",
    "a_tags = soup.find_all('a', class_=\"entry-title-link\")\n",
    "\n",
    "# for a_tag in a_tags:\n",
    "#     print(a_tag.get_text())\n",
    "\n",
    "a_taglist = []\n",
    "a_taglist = list(map(lambda a_tag: a_tag.get_text(), a_tags))\n",
    "print(a_taglist)\n",
    "\n",
    "blogs = soup.find_all('article', class_=\"type-post\")\n",
    "\n",
    "for blog in blogs:\n",
    "    title = blog.find('a', class_=\"entry-title-link\").get_text()\n",
    "\n",
    "    blog_datetime_string = blog.find('time', class_=\"entry-time\").get('datetime')\n",
    "    blog_datetime = datetime.datetime.fromisoformat(blog_datetime_string)\n",
    "    pretty_date = blog_datetime.strftime(\"%b %d %Y\")\n",
    "\n",
    "    print(f\"{pretty_date} - {title}\")\n",
    "    "
   ]
  },
  {
   "cell_type": "code",
   "execution_count": 24,
   "metadata": {},
   "outputs": [
    {
     "ename": "IndexError",
     "evalue": "list assignment index out of range",
     "output_type": "error",
     "traceback": [
      "\u001b[1;31m---------------------------------------------------------------------------\u001b[0m",
      "\u001b[1;31mIndexError\u001b[0m                                Traceback (most recent call last)",
      "Cell \u001b[1;32mIn[24], line 5\u001b[0m\n\u001b[0;32m      3\u001b[0m total \u001b[38;5;241m=\u001b[39m \u001b[38;5;241m1\u001b[39m\n\u001b[0;32m      4\u001b[0m \u001b[38;5;66;03m#ignore the first argument (read file name)\u001b[39;00m\n\u001b[1;32m----> 5\u001b[0m \u001b[38;5;28;01mdel\u001b[39;00m(sys\u001b[38;5;241m.\u001b[39margv[\u001b[38;5;241m0\u001b[39m])\n\u001b[0;32m      6\u001b[0m \u001b[38;5;28;01mfor\u001b[39;00m argument \u001b[38;5;129;01min\u001b[39;00m sys\u001b[38;5;241m.\u001b[39margv:\n\u001b[0;32m      7\u001b[0m     \u001b[38;5;28;01mtry\u001b[39;00m:\n",
      "\u001b[1;31mIndexError\u001b[0m: list assignment index out of range"
     ]
    }
   ],
   "source": [
    "import sys\n",
    "\n",
    "total = 1\n",
    "#ignore the first argument (read file name)\n",
    "del(sys.argv[0])\n",
    "for argument in sys.argv:\n",
    "    try:\n",
    "        number = int(argument)\n",
    "        total *= number\n",
    "    except Exception as e:\n",
    "        print(e)\n",
    "        print(\"Only numbers can be provided\")\n",
    "        #sys.exit with 0 means no problem\n",
    "        sys.exit(0)\n",
    "        #sys.exit with 1 means got problem\n",
    "        # sys.exit(1)\n",
    "        #got problem, straight exit, cannot proceed with the FOR loop\n",
    "        \n",
    "\n",
    "print(total)\n",
    "    "
   ]
  },
  {
   "cell_type": "code",
   "execution_count": 54,
   "metadata": {},
   "outputs": [
    {
     "name": "stdout",
     "output_type": "stream",
     "text": [
      "X marks the spot!!!\n",
      "           dispeweqw\n",
      "           ewqe\n",
      "['X marks the spot!!!\\n', '           dispeweqw\\n', '           ewqe']\n",
      "X marks the spot!!!\n",
      "\n",
      "           dispeweqw\n",
      "\n",
      "           ewqe\n",
      "720.0\n"
     ]
    }
   ],
   "source": [
    "# to create a new file\n",
    "# file = open(\"cheese.txt\",\"x\") \n",
    "\n",
    "# to modify an existed file\n",
    "file = open(\"cheese.txt\", \"w\")\n",
    "file.write(\"\"\"X marks the spot!!!\n",
    "           dispeweqw\n",
    "           ewqe\"\"\")\n",
    "file.close()\n",
    "\n",
    "#Simply display the file\n",
    "file = open (\"cheese.txt\", \"r\")\n",
    "file_text = file.read()\n",
    "print(file_text)\n",
    "file.close()\n",
    "\n",
    "#Display the file in lines\n",
    "file = open (\"cheese.txt\", \"r\")\n",
    "lines = file.readlines()\n",
    "print(lines)\n",
    "file.close()\n",
    "\n",
    "#Display the file line by line\n",
    "file = open (\"cheese.txt\", \"r\")\n",
    "for line in file:\n",
    "    print(line)\n",
    "file.close()\n",
    "\n",
    "#--------------------------------------------------------\n",
    "#challenge\n",
    "file = open(\"cheese.txt\", \"w\")\n",
    "file.write(\"\"\"1\n",
    "2\n",
    "3\n",
    "4\n",
    "5\n",
    "6\"\"\")\n",
    "file.close()\n",
    "\n",
    "file = open(\"cheese.txt\", \"r\")\n",
    "total = 1\n",
    "\n",
    "#easy or resilient approach\n",
    "#EASY\n",
    "# for line in file:\n",
    "#     number = float(line)\n",
    "#     total *= number\n",
    "\n",
    "#RESILIENT\n",
    "for number in file:\n",
    "    try:\n",
    "        interger = float(number)\n",
    "        total *= interger\n",
    "    except Exception as e:\n",
    "        pass\n",
    "\n",
    "\n",
    "print(total)\n",
    "file.close()"
   ]
  },
  {
   "cell_type": "code",
   "execution_count": 57,
   "metadata": {},
   "outputs": [
    {
     "name": "stdout",
     "output_type": "stream",
     "text": [
      "['I like cheese\\n', 'Hello friend! \\n', 'Hello friend! \\n', 'Hello friend! \\n', '4.0\\n', '6.0\\n', '8.0\\n', '10.0\\n', '12.0\\n', 'Goodbye!\\n', 'Goodbye!\\n', 'Goodbye!']\n",
      "['I like cheese\\n', 'Hello friend! \\n', 'Hello friend! \\n', 'Hello friend! \\n', '8.0\\n', '12.0\\n', '16.0\\n', '20.0\\n', '24.0\\n', 'Goodbye!\\n', 'Goodbye!\\n', 'Goodbye!']\n"
     ]
    }
   ],
   "source": [
    "# READ\n",
    "file = open(\"cheese.txt\", \"r\")\n",
    "lines = file.readlines()\n",
    "file.close()\n",
    "\n",
    "# EDIT\n",
    "# to insert\n",
    "lines.insert(0, \"I like cheese\\n\")\n",
    "# to edit the line\n",
    "lines[1] = \"Hello friend! \\n\"\n",
    "# to append at the back and add new line\n",
    "lines[-1] = lines[-1] + \"\\n\"\n",
    "lines.append(\"Goodbye!\")\n",
    "\n",
    "# WRITE\n",
    "file = open(\"cheese.txt\", \"w\")\n",
    "file.writelines(lines)\n",
    "file.close()\n",
    "\n",
    "print(lines)\n",
    "\n",
    "#------------------------------------------\n",
    "#Challenge\n",
    "# READ\n",
    "file = open(\"cheese.txt\", \"r\")\n",
    "lines = file.readlines()\n",
    "file.close()\n",
    "\n",
    "# EDIT\n",
    "# to access back to the index of the list we have to use range() so we can rewrite back to there previously\n",
    "for x in range(len(lines)):\n",
    "    try:\n",
    "        number = float(lines[x]) * 2\n",
    "        lines[x] = f\"{number}\\n\"\n",
    "    except Exception as e:\n",
    "        pass\n",
    "\n",
    "# WRITE\n",
    "file = open(\"cheese.txt\", \"w\")\n",
    "file.writelines(lines)\n",
    "file.close()\n",
    "\n",
    "print(lines)\n"
   ]
  },
  {
   "cell_type": "code",
   "execution_count": 67,
   "metadata": {},
   "outputs": [
    {
     "name": "stdout",
     "output_type": "stream",
     "text": [
      "['buy pizza\\n', 'buy beer\\n', 'buy candybar']\n",
      "['buy pizza\\n', 'buy beer\\n', 'buy candybar']\n",
      "\n",
      "Here's your ToDo List:\n",
      "\n",
      "1. buy pizza\n",
      "2. buy beer\n",
      "3. buy candybar\n",
      "********************************\n",
      "\n"
     ]
    },
    {
     "ename": "IndexError",
     "evalue": "list index out of range",
     "output_type": "error",
     "traceback": [
      "\u001b[1;31m---------------------------------------------------------------------------\u001b[0m",
      "\u001b[1;31mIndexError\u001b[0m                                Traceback (most recent call last)",
      "Cell \u001b[1;32mIn[67], line 50\u001b[0m\n\u001b[0;32m     48\u001b[0m \u001b[38;5;66;03m# Print Commands\u001b[39;00m\n\u001b[0;32m     49\u001b[0m \u001b[38;5;28mprint\u001b[39m(\u001b[38;5;124m\"\u001b[39m\u001b[38;5;130;01m\\n\u001b[39;00m\u001b[38;5;124m********************************\u001b[39m\u001b[38;5;130;01m\\n\u001b[39;00m\u001b[38;5;124m\"\u001b[39m)\n\u001b[1;32m---> 50\u001b[0m \u001b[38;5;28mprint\u001b[39m(\u001b[38;5;124mf\u001b[39m\u001b[38;5;124m\"\u001b[39m\u001b[38;5;124mTo view ToDo:\u001b[39m\u001b[38;5;130;01m\\n\u001b[39;00m\u001b[38;5;132;01m{\u001b[39;00msys\u001b[38;5;241m.\u001b[39margv[\u001b[38;5;241m0\u001b[39m]\u001b[38;5;132;01m}\u001b[39;00m\u001b[38;5;124m\"\u001b[39m)\n\u001b[0;32m     51\u001b[0m \u001b[38;5;28mprint\u001b[39m(\u001b[38;5;124mf\u001b[39m\u001b[38;5;124m\"\u001b[39m\u001b[38;5;130;01m\\n\u001b[39;00m\u001b[38;5;124mTo add a ToDo:\u001b[39m\u001b[38;5;130;01m\\n\u001b[39;00m\u001b[38;5;132;01m{\u001b[39;00msys\u001b[38;5;241m.\u001b[39margv[\u001b[38;5;241m0\u001b[39m]\u001b[38;5;132;01m}\u001b[39;00m\u001b[38;5;124m add \u001b[39m\u001b[38;5;130;01m\\\"\u001b[39;00m\u001b[38;5;124mClean Room\u001b[39m\u001b[38;5;130;01m\\\"\u001b[39;00m\u001b[38;5;130;01m\\n\u001b[39;00m\u001b[38;5;124m\"\u001b[39m)\n\u001b[0;32m     52\u001b[0m \u001b[38;5;28mprint\u001b[39m(\u001b[38;5;124mf\u001b[39m\u001b[38;5;124m\"\u001b[39m\u001b[38;5;124mTo remove or complete ToDo:\u001b[39m\u001b[38;5;130;01m\\n\u001b[39;00m\u001b[38;5;132;01m{\u001b[39;00msys\u001b[38;5;241m.\u001b[39margv[\u001b[38;5;241m0\u001b[39m]\u001b[38;5;132;01m}\u001b[39;00m\u001b[38;5;124m remove 2\u001b[39m\u001b[38;5;130;01m\\n\u001b[39;00m\u001b[38;5;124m\"\u001b[39m)\n",
      "\u001b[1;31mIndexError\u001b[0m: list index out of range"
     ]
    }
   ],
   "source": [
    "import sys\n",
    "\n",
    "file_name = \"todo_data.txt\"\n",
    "\n",
    "# Read File\n",
    "try:\n",
    "    file = open(file_name, \"r\")\n",
    "    todos = file.readlines()\n",
    "    file.close()\n",
    "except:\n",
    "    pass\n",
    "\n",
    "print(todos)\n",
    "\n",
    "# Add ToDo\n",
    "if len(sys.argv) >= 3 and sys.argv[1].lower() == \"add\":\n",
    "    todos.append(f\"{sys.argv[2]}\\n\")\n",
    "\n",
    "# Remove ToDo\n",
    "if len(sys.argv) >= 3 and sys.argv[1].lower() == \"remove\":\n",
    "    try:\n",
    "        index_to_delete = int(sys.argv[2])\n",
    "        if index_to_delete > 0 :\n",
    "            index_to_delete -= 1\n",
    "            del(todos[index_to_delete])\n",
    "        else:\n",
    "            print(\"Wrong number\")\n",
    "            sys.exit(1)\n",
    "    except Exception as e:\n",
    "        print(e)\n",
    "        sys.exit(1)\n",
    "\n",
    "print(todos)\n",
    "\n",
    "# Save File\n",
    "file = open(file_name, \"w\")\n",
    "file.writelines(todos)\n",
    "file.close()\n",
    "\n",
    "# Print List\n",
    "if len(todos) == 0:\n",
    "    print(\"You have no todos :)\")\n",
    "else:\n",
    "    print(\"\\nHere's your ToDo List:\\n\")\n",
    "    for x in range(len(todos)):\n",
    "        print(f\"{x + 1}. {todos[x]}\", end=\"\")\n",
    "\n",
    "# Print Commands\n",
    "print(\"\\n********************************\\n\")\n",
    "print(f\"To view ToDo:\\n{sys.argv[0]}\")\n",
    "print(f\"\\nTo add a ToDo:\\n{sys.argv[0]} add \\\"Clean Room\\\"\\n\")\n",
    "print(f\"To remove or complete ToDo:\\n{sys.argv[0]} remove 2\\n\")"
   ]
  },
  {
   "cell_type": "code",
   "execution_count": 69,
   "metadata": {},
   "outputs": [
    {
     "name": "stdout",
     "output_type": "stream",
     "text": [
      "[<__main__.ToDo object at 0x0000026285D8EC50>, <__main__.ToDo object at 0x0000026285DA4910>, <__main__.ToDo object at 0x0000026285DB60D0>]\n"
     ]
    }
   ],
   "source": [
    "import pickle\n",
    "\n",
    "class ToDo:\n",
    "    def __init__(self, title, important, category = \"Normal\"):\n",
    "        self.title = title\n",
    "        self.important = important\n",
    "        self.category = category\n",
    "\n",
    "todos = [ToDo(\"Walk Dog\", True), ToDo(\"Eat Cheese\", False), ToDo(\"Learn Python\", True, category = \"Work\")]\n",
    "\n",
    "age = [23, 523, 5, 324, 632, 5, 35]\n",
    "\n",
    "file = open(\"text.txt\", \"wb\")\n",
    "pickle.dump(todos, file)\n",
    "file.close()\n",
    "\n",
    "file = open(\"text.txt\", \"rb\")\n",
    "new_todos = pickle.load(file)\n",
    "file.close()\n",
    "\n",
    "print(new_todos)"
   ]
  },
  {
   "cell_type": "code",
   "execution_count": 70,
   "metadata": {},
   "outputs": [
    {
     "name": "stdout",
     "output_type": "stream",
     "text": [
      "[]\n",
      "[]\n",
      "You have no todos:)\n",
      "\n",
      "********************************\n",
      "\n"
     ]
    },
    {
     "ename": "IndexError",
     "evalue": "list index out of range",
     "output_type": "error",
     "traceback": [
      "\u001b[1;31m---------------------------------------------------------------------------\u001b[0m",
      "\u001b[1;31mIndexError\u001b[0m                                Traceback (most recent call last)",
      "Cell \u001b[1;32mIn[70], line 52\u001b[0m\n\u001b[0;32m     50\u001b[0m \u001b[38;5;66;03m# Print Commands\u001b[39;00m\n\u001b[0;32m     51\u001b[0m \u001b[38;5;28mprint\u001b[39m(\u001b[38;5;124m\"\u001b[39m\u001b[38;5;130;01m\\n\u001b[39;00m\u001b[38;5;124m********************************\u001b[39m\u001b[38;5;130;01m\\n\u001b[39;00m\u001b[38;5;124m\"\u001b[39m)\n\u001b[1;32m---> 52\u001b[0m \u001b[38;5;28mprint\u001b[39m(\u001b[38;5;124mf\u001b[39m\u001b[38;5;124m\"\u001b[39m\u001b[38;5;124mTo view ToDo:\u001b[39m\u001b[38;5;130;01m\\n\u001b[39;00m\u001b[38;5;132;01m{\u001b[39;00msys\u001b[38;5;241m.\u001b[39margv[\u001b[38;5;241m0\u001b[39m]\u001b[38;5;132;01m}\u001b[39;00m\u001b[38;5;124m\"\u001b[39m)\n\u001b[0;32m     53\u001b[0m \u001b[38;5;28mprint\u001b[39m(\u001b[38;5;124mf\u001b[39m\u001b[38;5;124m\"\u001b[39m\u001b[38;5;130;01m\\n\u001b[39;00m\u001b[38;5;124mTo add a ToDo:\u001b[39m\u001b[38;5;130;01m\\n\u001b[39;00m\u001b[38;5;132;01m{\u001b[39;00msys\u001b[38;5;241m.\u001b[39margv[\u001b[38;5;241m0\u001b[39m]\u001b[38;5;132;01m}\u001b[39;00m\u001b[38;5;124m add \u001b[39m\u001b[38;5;130;01m\\\"\u001b[39;00m\u001b[38;5;124mClean Room\u001b[39m\u001b[38;5;130;01m\\\"\u001b[39;00m\u001b[38;5;130;01m\\n\u001b[39;00m\u001b[38;5;124m\"\u001b[39m)\n\u001b[0;32m     54\u001b[0m \u001b[38;5;28mprint\u001b[39m(\u001b[38;5;124mf\u001b[39m\u001b[38;5;124m\"\u001b[39m\u001b[38;5;124mTo remove or complete ToDo:\u001b[39m\u001b[38;5;130;01m\\n\u001b[39;00m\u001b[38;5;132;01m{\u001b[39;00msys\u001b[38;5;241m.\u001b[39margv[\u001b[38;5;241m0\u001b[39m]\u001b[38;5;132;01m}\u001b[39;00m\u001b[38;5;124m remove 2\u001b[39m\u001b[38;5;130;01m\\n\u001b[39;00m\u001b[38;5;124m\"\u001b[39m)\n",
      "\u001b[1;31mIndexError\u001b[0m: list index out of range"
     ]
    }
   ],
   "source": [
    "import sys\n",
    "import pickle\n",
    "\n",
    "file_name = \"todo_pickle_data.txt\"\n",
    "todos = []\n",
    "\n",
    "# Read File\n",
    "try:\n",
    "    file = open(file_name, \"rb\")\n",
    "    todos = pickle.load(file)\n",
    "    file.close()\n",
    "except:\n",
    "    pass\n",
    "\n",
    "print(todos)\n",
    "\n",
    "# Add todo\n",
    "if len(sys.argv) >= 3 and sys.argv[1].lower() == \"add\":\n",
    "    todos.append(f\"{sys.argv[2]}\\n\")\n",
    "\n",
    "# Remove todo\n",
    "if len(sys.argv) >=3 and sys.argv[1].lower() == \"remove\":\n",
    "    try:\n",
    "        index_to_delete = int(sys.argv[2])\n",
    "        if index_to_delete >0:\n",
    "            index_to_delete -=1\n",
    "            del(todos[index_to_delete])\n",
    "        else:\n",
    "            print(\"Wrong Number\")\n",
    "            sys.exit(1)\n",
    "    except Exception as e:\n",
    "        print(e)\n",
    "        sys.exit(1)\n",
    "    \n",
    "print(todos)\n",
    "\n",
    "# Save File\n",
    "file = open(file_name, \"wb\")\n",
    "pickle.dump(todos, file)\n",
    "file.close()\n",
    "\n",
    "# Print List\n",
    "if len(todos) == 0:\n",
    "    print(\"You have no todos:)\")\n",
    "else:\n",
    "    print(\"\\nHere's your ToDo List:\\n\")\n",
    "    for x in range(len(todos)):\n",
    "        print(f\"{x + 1}. {todos[x]}\", end = \"\")\n",
    "\n",
    "# Print Commands\n",
    "print(\"\\n********************************\\n\")\n",
    "print(f\"To view ToDo:\\n{sys.argv[0]}\")\n",
    "print(f\"\\nTo add a ToDo:\\n{sys.argv[0]} add \\\"Clean Room\\\"\\n\")\n",
    "print(f\"To remove or complete ToDo:\\n{sys.argv[0]} remove 2\\n\")"
   ]
  },
  {
   "cell_type": "code",
   "execution_count": 75,
   "metadata": {},
   "outputs": [],
   "source": [
    "pickled_data = b'\\x80\\x04\\x95/\\x00\\x00\\x00\\x00\\x00\\x00\\x00]\\x94(\\x8c\\x05Great\\x94\\x8c\\x03job\\x94\\x8c\\tfinishing\\x94\\x8c\\x03the\\x94\\x8c\\x07course!\\x94e.'\n",
    "# result = Answer.depickle_to_string(the_data)\n",
    "\n",
    "import pickle\n",
    "\n",
    "\n",
    "def depickle_to_string(pickled_data):\n",
    "    the_string = \"\"\n",
    "\n",
    "    word_list = pickle.loads(pickled_data)\n",
    "    for x in range(0, len(word_list)):\n",
    "        the_string += word_list[x]\n",
    "        if x != len(word_list):\n",
    "            the_string += \" \"\n",
    "    \n",
    "    print(the_string)\n",
    "    return the_string\n",
    "    "
   ]
  }
 ],
 "metadata": {
  "kernelspec": {
   "display_name": "base",
   "language": "python",
   "name": "python3"
  },
  "language_info": {
   "codemirror_mode": {
    "name": "ipython",
    "version": 3
   },
   "file_extension": ".py",
   "mimetype": "text/x-python",
   "name": "python",
   "nbconvert_exporter": "python",
   "pygments_lexer": "ipython3",
   "version": "3.11.5"
  }
 },
 "nbformat": 4,
 "nbformat_minor": 2
}
