{
 "cells": [
  {
   "cell_type": "markdown",
   "id": "7da3cdb3",
   "metadata": {},
   "source": [
    "Automatic File Sorter"
   ]
  },
  {
   "cell_type": "code",
   "execution_count": 9,
   "id": "c8002495",
   "metadata": {},
   "outputs": [],
   "source": [
    "import os, shutil\n",
    "\n",
    "path = r\"C:\\Users\\lings\\OneDrive\\Documents\\Learn\"\n",
    "# Check if the path exists\n",
    "file_name = os.listdir(path)"
   ]
  },
  {
   "cell_type": "code",
   "execution_count": 10,
   "id": "efd5b94d",
   "metadata": {},
   "outputs": [
    {
     "name": "stdout",
     "output_type": "stream",
     "text": [
      "Folder created: C:\\Users\\lings\\OneDrive\\Documents\\Learn\\xlsx files\n",
      "Folder created: C:\\Users\\lings\\OneDrive\\Documents\\Learn\\pdf files\n",
      "Folder created: C:\\Users\\lings\\OneDrive\\Documents\\Learn\\text files\n"
     ]
    }
   ],
   "source": [
    "folders_names = ['xlsx files', 'pdf files', 'text files']\n",
    "\n",
    "# Create folders if they do not exist\n",
    "for loop in range(0,3):\n",
    "    folder_path = os.path.join(path, folders_names[loop])\n",
    "    if not os.path.exists(folder_path):\n",
    "        os.makedirs(folder_path)\n",
    "\n",
    "# Print the paths of the created folders\n",
    "for folder in folders_names:\n",
    "    folder_path = os.path.join(path, folder)\n",
    "    print(f\"Folder created: {folder_path}\")"
   ]
  },
  {
   "cell_type": "code",
   "execution_count": 11,
   "id": "53315593",
   "metadata": {},
   "outputs": [
    {
     "name": "stdout",
     "output_type": "stream",
     "text": [
      "Moving Excel Skills_09Mar2023_formula.xlsx to xlsx files folder\n",
      "Moving Fakefile.txt to text files folder\n",
      "Moving Introduction to R and Statistical Modelling in R.pdf to pdf files folder\n",
      "File pdf files does not match any criteria and will not be moved.\n",
      "Moving SAS Enterprise Guide for SAS Programmers.pdf to pdf files folder\n",
      "File text files does not match any criteria and will not be moved.\n",
      "File xlsx files does not match any criteria and will not be moved.\n"
     ]
    }
   ],
   "source": [
    "for file in file_name:\n",
    "    if \".xlsx\" in file and not os.path.isdir(os.path.join(path, file)):\n",
    "        print(f\"Moving {file} to xlsx files folder\")\n",
    "        shutil.move(os.path.join(path, file), os.path.join(path, 'xlsx files', file))\n",
    "    elif \".pdf\" in file and not os.path.isdir(os.path.join(path, file)):\n",
    "        print(f\"Moving {file} to pdf files folder\")\n",
    "        shutil.move(os.path.join(path, file), os.path.join(path, 'pdf files', file))\n",
    "    elif \".txt\" in file and not os.path.isdir(os.path.join(path, file)):\n",
    "        print(f\"Moving {file} to text files folder\")\n",
    "        shutil.move(os.path.join(path, file), os.path.join(path, 'text files', file))\n",
    "    else:\n",
    "        print(f\"File {file} does not match any criteria and will not be moved.\")"
   ]
  }
 ],
 "metadata": {
  "kernelspec": {
   "display_name": "Python 3",
   "language": "python",
   "name": "python3"
  },
  "language_info": {
   "codemirror_mode": {
    "name": "ipython",
    "version": 3
   },
   "file_extension": ".py",
   "mimetype": "text/x-python",
   "name": "python",
   "nbconvert_exporter": "python",
   "pygments_lexer": "ipython3",
   "version": "3.12.2"
  }
 },
 "nbformat": 4,
 "nbformat_minor": 5
}
